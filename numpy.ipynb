{
  "nbformat": 4,
  "nbformat_minor": 0,
  "metadata": {
    "colab": {
      "provenance": [],
      "authorship_tag": "ABX9TyOwL4Dxad0mtIly+LKy9OcW",
      "include_colab_link": true
    },
    "kernelspec": {
      "name": "python3",
      "display_name": "Python 3"
    },
    "language_info": {
      "name": "python"
    }
  },
  "cells": [
    {
      "cell_type": "markdown",
      "metadata": {
        "id": "view-in-github",
        "colab_type": "text"
      },
      "source": [
        "<a href=\"https://colab.research.google.com/github/Nunnaphanindra/Library-Managment-System/blob/master/numpy.ipynb\" target=\"_parent\"><img src=\"https://colab.research.google.com/assets/colab-badge.svg\" alt=\"Open In Colab\"/></a>"
      ]
    },
    {
      "cell_type": "markdown",
      "source": [
        "***NumPy:*** is the foundation for numerical computing in Python, so building mastery here pays off in data science, ML, scientific computing, and optimization tasks."
      ],
      "metadata": {
        "id": "hP1q_IKk-_Bx"
      }
    },
    {
      "cell_type": "markdown",
      "source": [
        "***Difference between Python lists and NumPy arrays:***\n",
        "**1. Data type:**\n",
        "Python List → can store elements of different types (e.g., int, float, string in the same list).\n",
        "\n",
        "NumPy Array → stores elements of the same type (all ints, or all floats).\n"
      ],
      "metadata": {
        "id": "kSE-En3VA-iT"
      }
    },
    {
      "cell_type": "code",
      "source": [
        "import numpy as np\n",
        "\n",
        "py_list = [1, \"hello\", 3.5]     # mixed types allowed\n",
        "np_array = np.array([1, 2, 3])  # only numbers, same type\n",
        "print(\"Python List:\", py_list)\n",
        "print(\"NumPy Array:\", np_array)\n"
      ],
      "metadata": {
        "colab": {
          "base_uri": "https://localhost:8080/"
        },
        "id": "Befg33IcBcmZ",
        "outputId": "4eca94fa-225a-418c-9c2c-610b3f97ac60"
      },
      "execution_count": null,
      "outputs": [
        {
          "output_type": "stream",
          "name": "stdout",
          "text": [
            "Python List: [1, 'hello', 3.5]\n",
            "NumPy Array: [1 2 3]\n"
          ]
        }
      ]
    },
    {
      "cell_type": "markdown",
      "source": [
        "**🔹 2. Memory Efficiency**\n",
        "\n",
        "**List** → each element is a full Python object → uses more memory.\n",
        "\n",
        "NumPy Array **bold text** → stores data in contiguous blocks of memory, making it much more compact."
      ],
      "metadata": {
        "id": "b089DTvpC0m0"
      }
    },
    {
      "cell_type": "code",
      "source": [
        "import sys\n",
        "\n",
        "lst = [1,2,3,4,5]\n",
        "arr = np.array([1,2,3,4,5])\n",
        "\n",
        "print(\"List size:\", sys.getsizeof(lst))\n",
        "print(\"NumPy array size:\", arr.nbytes)\n"
      ],
      "metadata": {
        "colab": {
          "base_uri": "https://localhost:8080/"
        },
        "id": "C-E4lEW2C_EV",
        "outputId": "4d1f4b54-e6ef-46c7-eef9-6cb3cb1e70b3"
      },
      "execution_count": null,
      "outputs": [
        {
          "output_type": "stream",
          "name": "stdout",
          "text": [
            "List size: 104\n",
            "NumPy array size: 40\n"
          ]
        }
      ]
    },
    {
      "cell_type": "markdown",
      "source": [
        "**Speed**\n",
        "\n",
        "**List** → slower for numerical operations (loops in Python).\n",
        "\n",
        "**NumPy Array** → very fast because it uses C-optimized vectorized operations."
      ],
      "metadata": {
        "id": "3kUVU5seEMoR"
      }
    },
    {
      "cell_type": "code",
      "execution_count": null,
      "metadata": {
        "colab": {
          "base_uri": "https://localhost:8080/"
        },
        "id": "Wrq5mwkS75J6",
        "outputId": "7fe68c9f-5f8f-461a-99d8-186af66d29b8"
      },
      "outputs": [
        {
          "output_type": "stream",
          "name": "stdout",
          "text": [
            "[2, 4, 6, 8, 10]\n",
            "[ 2  4  6  8 10]\n"
          ]
        }
      ],
      "source": [
        "lst = [1,2,3,4,5]\n",
        "arr = np.array([1,2,3,4,5])\n",
        "\n",
        "# Multiply each element by 2\n",
        "print([x*2 for x in lst])   # Python list → loop\n",
        "print(arr * 2)              # NumPy array → vectorized, super fast\n"
      ]
    },
    {
      "cell_type": "markdown",
      "source": [
        "**Functionality**\n",
        "\n",
        "**List **→ general-purpose container.\n",
        "\n",
        "**NumPy Array** → specialized for mathematical, statistical, and matrix operations."
      ],
      "metadata": {
        "id": "Xz1sPcKLFJeO"
      }
    },
    {
      "cell_type": "markdown",
      "source": [
        "**operations:**\n",
        "**List** → supports basic operations (append, insert, remove, slicing).\n",
        "\n",
        "**NumPy Array** → supports mathematical & matrix operations (addition, multiplication, dot product, transpose, etc.).\n"
      ],
      "metadata": {
        "id": "Guto664oFPbn"
      }
    },
    {
      "cell_type": "code",
      "source": [
        "import numpy as np\n",
        "\n",
        "arr1 = np.array([1,2,3])\n",
        "arr2 = np.array([4,5,6])\n",
        "\n",
        "print(arr1 + arr2)   # element-wise addition\n",
        "print(arr1 * arr2)   # element-wise multiplication\n",
        "print(np.dot(arr1, arr2))   # dot product\n",
        "\n",
        "# Transpose (2D case to see effect)\n",
        "arr1_2d = np.array([[1,2,3]])\n",
        "print(arr1_2d.T)     # transpose\n"
      ],
      "metadata": {
        "colab": {
          "base_uri": "https://localhost:8080/"
        },
        "id": "kFCPygo0FftY",
        "outputId": "d1e9bf2a-2968-4963-f9eb-3f942f67cc19"
      },
      "execution_count": null,
      "outputs": [
        {
          "output_type": "stream",
          "name": "stdout",
          "text": [
            "[5 7 9]\n",
            "[ 4 10 18]\n",
            "32\n",
            "[[1]\n",
            " [2]\n",
            " [3]]\n"
          ]
        }
      ]
    },
    {
      "cell_type": "markdown",
      "source": [
        "**Creating arrays:**\n"
      ],
      "metadata": {
        "id": "E3XH5NIfHn07"
      }
    },
    {
      "cell_type": "code",
      "source": [
        "import numpy as np\n",
        "arr = np.array([1,2,3])\n",
        "print(arr)\n"
      ],
      "metadata": {
        "colab": {
          "base_uri": "https://localhost:8080/"
        },
        "id": "y5as9TJXIzAo",
        "outputId": "0f22a45e-826a-4d31-8d6d-c734ef5d2576"
      },
      "execution_count": null,
      "outputs": [
        {
          "output_type": "stream",
          "name": "stdout",
          "text": [
            "[1 2 3]\n"
          ]
        }
      ]
    },
    {
      "cell_type": "markdown",
      "source": [
        "**np.zeros((3,3)), np.ones((2,2))**\n",
        "\n",
        "**np.zeros((m,n))** → matrix filled with 0s.\n",
        "\n",
        "**np.ones((m,n))** → matrix filled with 1s."
      ],
      "metadata": {
        "id": "i5JeyQnyJIun"
      }
    },
    {
      "cell_type": "code",
      "source": [
        "print(np.zeros((3,3)))\n",
        "print(np.ones((2,2)))\n"
      ],
      "metadata": {
        "colab": {
          "base_uri": "https://localhost:8080/"
        },
        "id": "wHMFBCWRJJxk",
        "outputId": "fb1a6b6f-0487-480f-94ca-844fa412c520"
      },
      "execution_count": null,
      "outputs": [
        {
          "output_type": "stream",
          "name": "stdout",
          "text": [
            "[[0. 0. 0.]\n",
            " [0. 0. 0.]\n",
            " [0. 0. 0.]]\n",
            "[[1. 1.]\n",
            " [1. 1.]]\n"
          ]
        }
      ]
    },
    {
      "cell_type": "markdown",
      "source": [
        "**np.arange():**\n",
        "\n",
        "Works like Python’s range(), generates numbers in a range."
      ],
      "metadata": {
        "id": "FwWmF_XGJjyM"
      }
    },
    {
      "cell_type": "code",
      "source": [
        "print(np.arange(5))        # 0 to 4\n",
        "print(np.arange(2,10,2))   # start=2, stop=10, step=2\n"
      ],
      "metadata": {
        "colab": {
          "base_uri": "https://localhost:8080/"
        },
        "id": "dEGW_JIbJ6IZ",
        "outputId": "9ac5b3c2-98fe-4f5a-947e-574acc69cb52"
      },
      "execution_count": null,
      "outputs": [
        {
          "output_type": "stream",
          "name": "stdout",
          "text": [
            "[0 1 2 3 4]\n",
            "[2 4 6 8]\n"
          ]
        }
      ]
    },
    {
      "cell_type": "markdown",
      "source": [
        "**np.eye() **→ Identity matrix\n",
        "\n",
        "Square matrix with 1s on the diagonal and 0s elsewhere."
      ],
      "metadata": {
        "id": "7MBVuM6hKX2s"
      }
    },
    {
      "cell_type": "code",
      "source": [
        "print(np.eye(3))\n"
      ],
      "metadata": {
        "colab": {
          "base_uri": "https://localhost:8080/"
        },
        "id": "byU0b4i0Lk_B",
        "outputId": "e789938e-09bd-4736-d4a1-8b96773f31cd"
      },
      "execution_count": null,
      "outputs": [
        {
          "output_type": "stream",
          "name": "stdout",
          "text": [
            "[[1. 0. 0.]\n",
            " [0. 1. 0.]\n",
            " [0. 0. 1.]]\n"
          ]
        }
      ]
    },
    {
      "cell_type": "markdown",
      "source": [
        "**np.diag()**\n",
        "\n",
        "Creates a diagonal matrix from a list.\n",
        "\n",
        "Or extracts the diagonal of a matrix."
      ],
      "metadata": {
        "id": "g6wYOlybNESl"
      }
    },
    {
      "cell_type": "code",
      "source": [
        "print(np.diag([1,2,3]))   # create diagonal matrix\n",
        "print(np.diag(np.array([[1,2],[3,4]])))  # extract diagonal\n",
        "\n",
        "\n"
      ],
      "metadata": {
        "colab": {
          "base_uri": "https://localhost:8080/"
        },
        "id": "NAOKoiahNGd7",
        "outputId": "9b0a6927-b191-47d4-f389-298db896887d"
      },
      "execution_count": null,
      "outputs": [
        {
          "output_type": "stream",
          "name": "stdout",
          "text": [
            "[[1 0 0]\n",
            " [0 2 0]\n",
            " [0 0 3]]\n",
            "[1 4]\n"
          ]
        }
      ]
    },
    {
      "cell_type": "markdown",
      "source": [
        "***4. np.linspace()***\n",
        "\n",
        "Generates numbers evenly spaced between start and stop.\n",
        "Syntax: np.linspace(start, stop, num_points)"
      ],
      "metadata": {
        "id": "guCetOw5bLBj"
      }
    },
    {
      "cell_type": "code",
      "source": [
        "print(np.linspace(0,5,2))"
      ],
      "metadata": {
        "colab": {
          "base_uri": "https://localhost:8080/"
        },
        "id": "5sjHKxK-bNZ8",
        "outputId": "ca910ecd-73c6-461a-db51-9e307488dee4"
      },
      "execution_count": null,
      "outputs": [
        {
          "output_type": "stream",
          "name": "stdout",
          "text": [
            "[0. 5.]\n"
          ]
        }
      ]
    },
    {
      "cell_type": "markdown",
      "source": [
        "**Array Attributes**:"
      ],
      "metadata": {
        "id": "xSydH8fnJ-Tx"
      }
    },
    {
      "cell_type": "markdown",
      "source": [
        "***.shape***\n",
        "\n",
        "Tells you the dimensions of the array (rows, columns, etc.)"
      ],
      "metadata": {
        "id": "lUpICmmfKKAu"
      }
    },
    {
      "cell_type": "code",
      "source": [
        "import numpy as np\n",
        "arr=np.array([[1,2,3],[4,5,6]])\n",
        "print(arr.shape)"
      ],
      "metadata": {
        "colab": {
          "base_uri": "https://localhost:8080/"
        },
        "id": "D9Nz21O_KCgG",
        "outputId": "c4683668-9117-4325-8626-ae90e96c5958"
      },
      "execution_count": null,
      "outputs": [
        {
          "output_type": "stream",
          "name": "stdout",
          "text": [
            "(2, 3)\n"
          ]
        }
      ]
    },
    {
      "cell_type": "markdown",
      "source": [
        "***.ndim***\n",
        "\n",
        "Gives the number of dimensions."
      ],
      "metadata": {
        "id": "feii_fSahON2"
      }
    },
    {
      "cell_type": "code",
      "source": [
        "print(arr.ndim)    # 2 (2D array)\n"
      ],
      "metadata": {
        "colab": {
          "base_uri": "https://localhost:8080/"
        },
        "id": "uWk1jclDhQU_",
        "outputId": "c8a05a70-c735-4ab1-9587-afc0191cf2d6"
      },
      "execution_count": null,
      "outputs": [
        {
          "output_type": "stream",
          "name": "stdout",
          "text": [
            "2\n"
          ]
        }
      ]
    },
    {
      "cell_type": "markdown",
      "source": [
        "***.dtype***\n",
        "\n",
        "Shows the data type of elements."
      ],
      "metadata": {
        "id": "g-3uubgLhYyW"
      }
    },
    {
      "cell_type": "code",
      "source": [
        "print(arr.dtype)   # int64 (depends on your system)\n"
      ],
      "metadata": {
        "colab": {
          "base_uri": "https://localhost:8080/"
        },
        "id": "Fo-x0Ugphevv",
        "outputId": "a0f6d22a-dc4e-41ef-f9cd-820035899e0d"
      },
      "execution_count": null,
      "outputs": [
        {
          "output_type": "stream",
          "name": "stdout",
          "text": [
            "int64\n"
          ]
        }
      ]
    },
    {
      "cell_type": "markdown",
      "source": [
        "*.size*\n",
        "\n",
        "Total number of elements."
      ],
      "metadata": {
        "id": "RPTBTPh2hj77"
      }
    },
    {
      "cell_type": "code",
      "source": [
        "print(arr.size)"
      ],
      "metadata": {
        "colab": {
          "base_uri": "https://localhost:8080/"
        },
        "id": "HsQgFJRzhvMg",
        "outputId": "b78a5fb9-18ba-449f-fafb-01285e7498b3"
      },
      "execution_count": null,
      "outputs": [
        {
          "output_type": "stream",
          "name": "stdout",
          "text": [
            "6\n"
          ]
        }
      ]
    },
    {
      "cell_type": "markdown",
      "source": [
        "***.itemsize***\n",
        "\n",
        "Size in bytes of each element."
      ],
      "metadata": {
        "id": "hVc0rXs7iFLo"
      }
    },
    {
      "cell_type": "code",
      "source": [
        "print(arr.itemsize)   # e.g. 8 bytes for int64\n"
      ],
      "metadata": {
        "colab": {
          "base_uri": "https://localhost:8080/"
        },
        "id": "5Wg9wtEGitom",
        "outputId": "f45b1a75-2b35-44c9-fa38-6c84a86f35b2"
      },
      "execution_count": null,
      "outputs": [
        {
          "output_type": "stream",
          "name": "stdout",
          "text": [
            "8\n"
          ]
        }
      ]
    },
    {
      "cell_type": "markdown",
      "source": [
        "***Reshaping Arrays:***"
      ],
      "metadata": {
        "id": "zteMar3njkvN"
      }
    },
    {
      "cell_type": "markdown",
      "source": [
        "***.reshape()***\n",
        "Changes the shape of an array without changing data."
      ],
      "metadata": {
        "id": "iUkUnA4kkG_h"
      }
    },
    {
      "cell_type": "code",
      "source": [
        "arr=np.arange(6)\n",
        "print(arr.reshape(2,3))\n"
      ],
      "metadata": {
        "colab": {
          "base_uri": "https://localhost:8080/"
        },
        "id": "2749CoE4kCdz",
        "outputId": "770b01ce-5ad9-4e73-ba41-0d970d8b9811"
      },
      "execution_count": null,
      "outputs": [
        {
          "output_type": "stream",
          "name": "stdout",
          "text": [
            "[[0 1 2]\n",
            " [3 4 5]]\n"
          ]
        }
      ]
    },
    {
      "cell_type": "markdown",
      "source": [
        "***.ravel()***\n",
        "\n",
        "Returns a flattened (1D) view of the array (changes original if modified)."
      ],
      "metadata": {
        "id": "LoQcKMo0k4oy"
      }
    },
    {
      "cell_type": "code",
      "source": [
        "arr2d=np.array([[1,2,3],[4,5,6]])\n",
        "flat=arr2d.ravel()\n",
        "print(flat)"
      ],
      "metadata": {
        "colab": {
          "base_uri": "https://localhost:8080/"
        },
        "id": "Zr2iYU8sllCB",
        "outputId": "ce6c05f2-dd2e-46c0-dc22-2de25e8bdce7"
      },
      "execution_count": null,
      "outputs": [
        {
          "output_type": "stream",
          "name": "stdout",
          "text": [
            "[1 2 3 4 5 6]\n"
          ]
        }
      ]
    },
    {
      "cell_type": "markdown",
      "source": [
        "***.flatten()***\n",
        "\n",
        "Also flattens the array, but returns a copy (not a view)."
      ],
      "metadata": {
        "id": "Uu37XnKgmVP1"
      }
    },
    {
      "cell_type": "code",
      "source": [
        "flat_copy=arr2d.flatten()\n",
        "print(flat_copy)"
      ],
      "metadata": {
        "colab": {
          "base_uri": "https://localhost:8080/"
        },
        "id": "Uy4qzUk2mhBg",
        "outputId": "d6b45861-83c8-41c3-a4c2-83372637ef58"
      },
      "execution_count": null,
      "outputs": [
        {
          "output_type": "stream",
          "name": "stdout",
          "text": [
            "[1 2 3 4 5 6]\n"
          ]
        }
      ]
    },
    {
      "cell_type": "markdown",
      "source": [
        "**Difference between .ravel() and .flatten()**\n",
        "\n",
        "**.ravel() **→ view (changes in flat array affect original)\n",
        "\n",
        ".**flatten()** → copy (independent of original)"
      ],
      "metadata": {
        "id": "UTKPW5o5nRuG"
      }
    },
    {
      "cell_type": "code",
      "source": [
        "arr = np.array([[1,2],[3,4]])\n",
        "r = arr.ravel()\n",
        "f = arr.flatten()\n",
        "\n",
        "r[0] = 99\n",
        "print(arr)   # [[99  2]  [ 3  4]] → original changed\n",
        "\n",
        "f[0] = 77\n",
        "print(arr)   # [[99  2]  [ 3  4]] → original unchanged\n"
      ],
      "metadata": {
        "colab": {
          "base_uri": "https://localhost:8080/"
        },
        "id": "CnSdnHZNn5i_",
        "outputId": "0e3b0dd8-aec7-48b3-f046-23c6ef895d64"
      },
      "execution_count": null,
      "outputs": [
        {
          "output_type": "stream",
          "name": "stdout",
          "text": [
            "[[99  2]\n",
            " [ 3  4]]\n",
            "[[99  2]\n",
            " [ 3  4]]\n"
          ]
        }
      ]
    },
    {
      "cell_type": "markdown",
      "source": [
        "**Notice:**\n",
        ".shape, .ndim, .dtype, .size, .itemsize → info about array\n",
        "\n",
        ".reshape() → change shape\n",
        "\n",
        ".ravel(), .flatten() → convert to 1D"
      ],
      "metadata": {
        "id": "HKrnDsGloF1d"
      }
    },
    {
      "cell_type": "markdown",
      "source": [
        "***Indexing & Slicing***:"
      ],
      "metadata": {
        "id": "_QFUeJD2jxvT"
      }
    },
    {
      "cell_type": "markdown",
      "source": [
        "🔹 1. Indexing\n",
        "(a) 1D Indexing"
      ],
      "metadata": {
        "id": "L37IAirDkDkU"
      }
    },
    {
      "cell_type": "code",
      "source": [
        "import numpy as np\n",
        "arr=np.array([10,20,30,40,50])\n",
        "print(arr[0])\n",
        "print(arr[3])"
      ],
      "metadata": {
        "colab": {
          "base_uri": "https://localhost:8080/"
        },
        "id": "z_yfwGB7j6pQ",
        "outputId": "ead24f8b-a8b5-461a-fe2d-7d9dcd29be95"
      },
      "execution_count": null,
      "outputs": [
        {
          "output_type": "stream",
          "name": "stdout",
          "text": [
            "10\n",
            "40\n"
          ]
        }
      ]
    },
    {
      "cell_type": "markdown",
      "source": [
        "***(b) 2D Indexing***:"
      ],
      "metadata": {
        "id": "zL6Irqf7mtnL"
      }
    },
    {
      "cell_type": "code",
      "source": [
        "arr2d=np.array([[1,2,3],[4,5,6],[7,8,9],[10,11,12]])\n",
        "print(arr2d[0])\n"
      ],
      "metadata": {
        "colab": {
          "base_uri": "https://localhost:8080/"
        },
        "id": "-FKJkkgxmweX",
        "outputId": "b23e6324-0710-4de8-e335-ac0dffd2bb97"
      },
      "execution_count": null,
      "outputs": [
        {
          "output_type": "stream",
          "name": "stdout",
          "text": [
            "[1 2 3]\n"
          ]
        }
      ]
    },
    {
      "cell_type": "markdown",
      "source": [
        "2. Slicing\n",
        "(a) 1D Slicing:"
      ],
      "metadata": {
        "id": "zyvEwbtmn1K5"
      }
    },
    {
      "cell_type": "code",
      "source": [
        "print(arr[1:4])\n"
      ],
      "metadata": {
        "colab": {
          "base_uri": "https://localhost:8080/"
        },
        "id": "koFDTfp9n5yk",
        "outputId": "52a00153-1fd6-4b45-f72b-2fb2e5346b10"
      },
      "execution_count": null,
      "outputs": [
        {
          "output_type": "stream",
          "name": "stdout",
          "text": [
            "[20 30 40]\n"
          ]
        }
      ]
    },
    {
      "cell_type": "markdown",
      "source": [
        "**(b) 2D Slicing:**"
      ],
      "metadata": {
        "id": "exdE9A90odcK"
      }
    },
    {
      "cell_type": "code",
      "source": [
        "print(arr2d[0:2, 1:3])\n"
      ],
      "metadata": {
        "colab": {
          "base_uri": "https://localhost:8080/"
        },
        "id": "qtakOxEzojt5",
        "outputId": "5872e167-d7a0-4829-a13c-0e057c0dd217"
      },
      "execution_count": null,
      "outputs": [
        {
          "output_type": "stream",
          "name": "stdout",
          "text": [
            "[[2 3]\n",
            " [5 6]]\n"
          ]
        }
      ]
    },
    {
      "cell_type": "markdown",
      "source": [
        "**3.Boolean Indexing**\n",
        "\n",
        "**Select elements that satisfy a condition:**"
      ],
      "metadata": {
        "id": "m7jEuMOmpgEW"
      }
    },
    {
      "cell_type": "code",
      "source": [
        "print(arr[arr > 25])\n"
      ],
      "metadata": {
        "colab": {
          "base_uri": "https://localhost:8080/"
        },
        "id": "kF9Ji5iDqpnp",
        "outputId": "78a520ef-40df-4620-90ad-b4a84aa7f1fd"
      },
      "execution_count": null,
      "outputs": [
        {
          "output_type": "stream",
          "name": "stdout",
          "text": [
            "[30 40 50]\n"
          ]
        }
      ]
    },
    {
      "cell_type": "markdown",
      "source": [
        "**4. Fancy Indexing**\n",
        "\n",
        "**Select multiple specific indices at once.**"
      ],
      "metadata": {
        "id": "DIgAj7hsqyv7"
      }
    },
    {
      "cell_type": "code",
      "source": [
        "print(arr[[0, 2, 4]])\n",
        "\n"
      ],
      "metadata": {
        "colab": {
          "base_uri": "https://localhost:8080/"
        },
        "id": "H-AdyiaTrA6E",
        "outputId": "2bc99dfa-6a42-4f21-94fd-056b3def69d6"
      },
      "execution_count": null,
      "outputs": [
        {
          "output_type": "stream",
          "name": "stdout",
          "text": [
            "[10 30 50]\n"
          ]
        }
      ]
    },
    {
      "cell_type": "markdown",
      "source": [
        "***Works with 2D too***"
      ],
      "metadata": {
        "id": "ENAASyw9rNpf"
      }
    },
    {
      "cell_type": "code",
      "source": [
        "print(arr2d[[0,2],[1,2]])"
      ],
      "metadata": {
        "colab": {
          "base_uri": "https://localhost:8080/"
        },
        "id": "SNK40HYTrRUO",
        "outputId": "4b6e6a05-6e07-4fe1-e0a8-4488c2141992"
      },
      "execution_count": null,
      "outputs": [
        {
          "output_type": "stream",
          "name": "stdout",
          "text": [
            "[2 9]\n"
          ]
        }
      ]
    },
    {
      "cell_type": "markdown",
      "source": [
        "**2. Core Operations (Intermediate)**"
      ],
      "metadata": {
        "id": "8C9Q13n3s8T8"
      }
    },
    {
      "cell_type": "markdown",
      "source": [
        "**1. Element-wise Operations**\n",
        "\n",
        "**Operations are applied to each element**."
      ],
      "metadata": {
        "id": "LqzYxIO7upHF"
      }
    },
    {
      "cell_type": "code",
      "source": [
        "import numpy as np\n",
        "\n",
        "arr1 = np.array([1, 2, 3, 4])\n",
        "arr2 = np.array([5, 6, 7, 8])\n",
        "\n",
        "print(arr1 + arr2)\n",
        "print(arr1 - arr2)\n",
        "print(arr1 * arr2)\n",
        "print(arr2 / arr1)\n",
        "print(arr1 ** 2)\n"
      ],
      "metadata": {
        "colab": {
          "base_uri": "https://localhost:8080/"
        },
        "id": "e7TLDIvst4YC",
        "outputId": "6f669489-ae26-4f08-88fc-13a347034ae9"
      },
      "execution_count": null,
      "outputs": [
        {
          "output_type": "stream",
          "name": "stdout",
          "text": [
            "[ 6  8 10 12]\n",
            "[-4 -4 -4 -4]\n",
            "[ 5 12 21 32]\n",
            "[5.         3.         2.33333333 2.        ]\n",
            "[ 1  4  9 16]\n"
          ]
        }
      ]
    },
    {
      "cell_type": "markdown",
      "source": [
        "**2. Universal Functions (ufuncs)**\n",
        "\n",
        "**Pre-built fast functions applied element-wise.**"
      ],
      "metadata": {
        "id": "VXscy9u-v9DX"
      }
    },
    {
      "cell_type": "code",
      "source": [
        "arr=np.array([1,2,3,4,5])\n",
        "print(np.sqrt(arr))\n",
        "print(np.exp(arr))\n",
        "print(np.log(arr))"
      ],
      "metadata": {
        "colab": {
          "base_uri": "https://localhost:8080/"
        },
        "id": "RBVmlm7kwFeS",
        "outputId": "af02ec8d-6248-4137-ee1d-9de4c95f9556"
      },
      "execution_count": null,
      "outputs": [
        {
          "output_type": "stream",
          "name": "stdout",
          "text": [
            "[1.         1.41421356 1.73205081 2.         2.23606798]\n",
            "[  2.71828183   7.3890561   20.08553692  54.59815003 148.4131591 ]\n",
            "[0.         0.69314718 1.09861229 1.38629436 1.60943791]\n"
          ]
        }
      ]
    },
    {
      "cell_type": "markdown",
      "source": [
        "**3. Aggregations**\n",
        "\n",
        "***Work on entire array (or along axis in 2D).***"
      ],
      "metadata": {
        "id": "_0xia5VbyQuL"
      }
    },
    {
      "cell_type": "code",
      "source": [
        "arr = np.array([1, 2, 3, 4, 5])\n",
        "\n",
        "print(np.sum(arr))\n",
        "print(np.mean(arr))\n",
        "print(np.std(arr))\n",
        "print(np.var(arr))\n"
      ],
      "metadata": {
        "colab": {
          "base_uri": "https://localhost:8080/"
        },
        "id": "SONe_59PyX1-",
        "outputId": "9b37dc61-c263-4c92-c23c-b950f12596ed"
      },
      "execution_count": null,
      "outputs": [
        {
          "output_type": "stream",
          "name": "stdout",
          "text": [
            "15\n",
            "3.0\n",
            "1.4142135623730951\n",
            "2.0\n"
          ]
        }
      ]
    },
    {
      "cell_type": "markdown",
      "source": [
        "4***. Min / Max Functions***"
      ],
      "metadata": {
        "id": "LZgtONVcz3bd"
      }
    },
    {
      "cell_type": "code",
      "source": [
        "arr = np.array([10, 20, 5, 40, 15])\n",
        "\n",
        "print(np.min(arr))\n",
        "print(np.max(arr))\n",
        "print(np.argmin(arr))\n",
        "print(np.argmax(arr))\n"
      ],
      "metadata": {
        "colab": {
          "base_uri": "https://localhost:8080/"
        },
        "id": "1Dw9DljJ0fz-",
        "outputId": "abd4958b-ad90-4ed5-99f2-9a918b5ad407"
      },
      "execution_count": null,
      "outputs": [
        {
          "output_type": "stream",
          "name": "stdout",
          "text": [
            "5\n",
            "40\n",
            "2\n",
            "3\n"
          ]
        }
      ]
    },
    {
      "cell_type": "markdown",
      "source": [
        "***What is Broadcasting?***\n",
        "\n",
        "Broadcasting means NumPy automatically expands arrays of different shapes so arithmetic operations can work without making explicit copies.\n",
        "It follows broadcasting rules:\n",
        "\n",
        "If arrays have different number of dimensions, the smaller one is padded with 1s on the left.\n",
        "\n",
        "If the shape dimensions are not equal, one of them must be 1 → then it can be stretched (broadcasted).\n",
        "\n",
        "If dimensions are not equal and neither is 1 → ❌ error."
      ],
      "metadata": {
        "id": "CswRBfdj0ybE"
      }
    },
    {
      "cell_type": "markdown",
      "source": [
        "***Example 1: Scalar + Matrix***\n",
        "\n",
        "A scalar is \"broadcasted\" to every element."
      ],
      "metadata": {
        "id": "bfVbpbO458PA"
      }
    },
    {
      "cell_type": "code",
      "source": [
        "import numpy as np\n",
        "\n",
        "arr = np.array([[1, 2, 3],\n",
        "                [4, 5, 6]])\n",
        "\n",
        "print(arr + 10)\n"
      ],
      "metadata": {
        "colab": {
          "base_uri": "https://localhost:8080/"
        },
        "id": "jQQ8vZ_B5omI",
        "outputId": "12901023-1151-467f-cc16-1d4de811e04c"
      },
      "execution_count": null,
      "outputs": [
        {
          "output_type": "stream",
          "name": "stdout",
          "text": [
            "[[11 12 13]\n",
            " [14 15 16]]\n"
          ]
        }
      ]
    },
    {
      "cell_type": "markdown",
      "source": [
        "*Example 2: Vector + Matrix (Row-wise broadcasting)*"
      ],
      "metadata": {
        "id": "KDTvKRSQ6Ibi"
      }
    },
    {
      "cell_type": "code",
      "source": [
        "arr = np.array([[1, 2, 3],\n",
        "                [4, 5, 6]])\n",
        "\n",
        "vec = np.array([10, 20, 30])\n",
        "\n",
        "print(arr + vec)\n"
      ],
      "metadata": {
        "colab": {
          "base_uri": "https://localhost:8080/"
        },
        "id": "_XbEwbtI6PWQ",
        "outputId": "13871a0d-9dfa-4957-d463-da0bca929b7c"
      },
      "execution_count": null,
      "outputs": [
        {
          "output_type": "stream",
          "name": "stdout",
          "text": [
            "[[11 22 33]\n",
            " [14 25 36]]\n"
          ]
        }
      ]
    },
    {
      "cell_type": "markdown",
      "source": [
        "***Example 3: Column Vector + Matrix (Column-wise broadcasting)***"
      ],
      "metadata": {
        "id": "_kW97Uix6Zi2"
      }
    },
    {
      "cell_type": "code",
      "source": [
        "arr = np.array([[1, 2, 3],\n",
        "                [4, 5, 6]])\n",
        "\n",
        "col_vec = np.array([[10],\n",
        "                    [20]])\n",
        "\n",
        "print(arr + col_vec)\n"
      ],
      "metadata": {
        "colab": {
          "base_uri": "https://localhost:8080/"
        },
        "id": "HOYMEaXb6fRq",
        "outputId": "23cb9b2a-3c72-4423-f042-ecae27c864f8"
      },
      "execution_count": null,
      "outputs": [
        {
          "output_type": "stream",
          "name": "stdout",
          "text": [
            "[[11 12 13]\n",
            " [24 25 26]]\n"
          ]
        }
      ]
    },
    {
      "cell_type": "markdown",
      "source": [
        "***Example 4: Mismatched shapes (Error case)***"
      ],
      "metadata": {
        "id": "mCzkDwHs6qYo"
      }
    },
    {
      "cell_type": "code",
      "source": [
        "arr = np.array([[1, 2, 3],\n",
        "                [4, 5, 6]])\n",
        "\n",
        "bad_vec = np.array([10, 20])  # shape mismatch\n",
        "\n",
        "print(arr + bad_vec)  # ❌ Error\n"
      ],
      "metadata": {
        "colab": {
          "base_uri": "https://localhost:8080/",
          "height": 176
        },
        "id": "H7Q7W7Ny6x0T",
        "outputId": "722a0471-e34c-4263-e583-36de6ac12132"
      },
      "execution_count": null,
      "outputs": [
        {
          "output_type": "error",
          "ename": "ValueError",
          "evalue": "operands could not be broadcast together with shapes (2,3) (2,) ",
          "traceback": [
            "\u001b[0;31m---------------------------------------------------------------------------\u001b[0m",
            "\u001b[0;31mValueError\u001b[0m                                Traceback (most recent call last)",
            "\u001b[0;32m/tmp/ipython-input-2167838598.py\u001b[0m in \u001b[0;36m<cell line: 0>\u001b[0;34m()\u001b[0m\n\u001b[1;32m      4\u001b[0m \u001b[0mbad_vec\u001b[0m \u001b[0;34m=\u001b[0m \u001b[0mnp\u001b[0m\u001b[0;34m.\u001b[0m\u001b[0marray\u001b[0m\u001b[0;34m(\u001b[0m\u001b[0;34m[\u001b[0m\u001b[0;36m10\u001b[0m\u001b[0;34m,\u001b[0m \u001b[0;36m20\u001b[0m\u001b[0;34m]\u001b[0m\u001b[0;34m)\u001b[0m  \u001b[0;31m# shape mismatch\u001b[0m\u001b[0;34m\u001b[0m\u001b[0;34m\u001b[0m\u001b[0m\n\u001b[1;32m      5\u001b[0m \u001b[0;34m\u001b[0m\u001b[0m\n\u001b[0;32m----> 6\u001b[0;31m \u001b[0mprint\u001b[0m\u001b[0;34m(\u001b[0m\u001b[0marr\u001b[0m \u001b[0;34m+\u001b[0m \u001b[0mbad_vec\u001b[0m\u001b[0;34m)\u001b[0m  \u001b[0;31m# ❌ Error\u001b[0m\u001b[0;34m\u001b[0m\u001b[0;34m\u001b[0m\u001b[0m\n\u001b[0m",
            "\u001b[0;31mValueError\u001b[0m: operands could not be broadcast together with shapes (2,3) (2,) "
          ]
        }
      ]
    },
    {
      "cell_type": "markdown",
      "source": [
        "***1. np.random.rand()***\n",
        "\n",
        "Generates random numbers between 0 and 1 (uniform distribution).\n",
        "Takes dimensions as arguments"
      ],
      "metadata": {
        "id": "BEq-p7MT8HgS"
      }
    },
    {
      "cell_type": "code",
      "source": [
        "import numpy as np\n",
        "\n",
        "print(np.random.rand())       # single random number\n",
        "print(np.random.rand(2, 3))   # 2x3 matrix of random numbers\n"
      ],
      "metadata": {
        "colab": {
          "base_uri": "https://localhost:8080/"
        },
        "id": "Oyp25Gjq8JjA",
        "outputId": "a2e55e4c-dbdf-44e2-8145-d0322693907e"
      },
      "execution_count": null,
      "outputs": [
        {
          "output_type": "stream",
          "name": "stdout",
          "text": [
            "0.6871874132968593\n",
            "[[0.40163793 0.71563888 0.18524886]\n",
            " [0.76398553 0.83444703 0.6284558 ]]\n"
          ]
        }
      ]
    },
    {
      "cell_type": "markdown",
      "source": [
        "***2. np.random.randn()***\n",
        "\n",
        "Generates random numbers from a standard normal distribution (mean=0, std=1).\n",
        "Useful for simulations/statistics."
      ],
      "metadata": {
        "id": "odj-K7XM8Oxh"
      }
    },
    {
      "cell_type": "code",
      "source": [
        "print(np.random.randn())\n",
        "print(np.random.randn(2, 3))\n"
      ],
      "metadata": {
        "colab": {
          "base_uri": "https://localhost:8080/"
        },
        "id": "H4xh-c8L8cqJ",
        "outputId": "bca98dea-54a1-4081-b84f-12ecf2697edb"
      },
      "execution_count": null,
      "outputs": [
        {
          "output_type": "stream",
          "name": "stdout",
          "text": [
            "0.1461009480964727\n",
            "[[-0.58275786 -0.8888242  -1.43270608]\n",
            " [ 1.727902    0.23562496 -1.30785388]]\n"
          ]
        }
      ]
    },
    {
      "cell_type": "markdown",
      "source": [
        "***3. np.random.randint()***\n",
        "\n",
        "Generates random integers within a given range."
      ],
      "metadata": {
        "id": "6zBamI2n8m_2"
      }
    },
    {
      "cell_type": "code",
      "source": [
        "print(np.random.randint(1, 10))        # one integer between 1 and 9\n",
        "print(np.random.randint(1, 10, 5))     # 5 random integers\n",
        "print(np.random.randint(10, 50, (2,3)))  # 2x3 matrix of random integers\n"
      ],
      "metadata": {
        "colab": {
          "base_uri": "https://localhost:8080/"
        },
        "id": "lM4PHEnR8uYL",
        "outputId": "54e53b0b-8181-4546-cbe6-09f76536ef4f"
      },
      "execution_count": null,
      "outputs": [
        {
          "output_type": "stream",
          "name": "stdout",
          "text": [
            "5\n",
            "[2 7 7 7 9]\n",
            "[[18 48 23]\n",
            " [41 21 20]]\n"
          ]
        }
      ]
    },
    {
      "cell_type": "markdown",
      "source": [
        "***4. Seeding with np.random.seed()***\n",
        "\n",
        "👉 Random numbers are generated differently each run.\n",
        "👉 If you want reproducibility, set a seed."
      ],
      "metadata": {
        "id": "4_-IXlpm-XEu"
      }
    },
    {
      "cell_type": "markdown",
      "source": [
        "***Without a seed:***\n",
        "\n",
        "   *** You’ll get different numbers every time (because they are random).***"
      ],
      "metadata": {
        "id": "28MBTGubAEhj"
      }
    },
    {
      "cell_type": "code",
      "source": [
        "import numpy as np\n",
        "print(np.random.rand(3))\n"
      ],
      "metadata": {
        "colab": {
          "base_uri": "https://localhost:8080/"
        },
        "id": "f83DWFX1AUnC",
        "outputId": "02c87b9a-59f8-431b-ba4f-54c665e78c1b"
      },
      "execution_count": null,
      "outputs": [
        {
          "output_type": "stream",
          "name": "stdout",
          "text": [
            "[0.8799965  0.25740443 0.07914931]\n"
          ]
        }
      ]
    },
    {
      "cell_type": "markdown",
      "source": [
        "**With a seed:**\n",
        "**You always get the same result.**"
      ],
      "metadata": {
        "id": "r5yz2j_DAXxy"
      }
    },
    {
      "cell_type": "code",
      "source": [
        "np.random.seed(42)\n",
        "print(np.random.rand(3))\n"
      ],
      "metadata": {
        "colab": {
          "base_uri": "https://localhost:8080/"
        },
        "id": "OdgJrXrcAxv5",
        "outputId": "884a4e75-919d-46f7-e31b-dc68806aac6b"
      },
      "execution_count": null,
      "outputs": [
        {
          "output_type": "stream",
          "name": "stdout",
          "text": [
            "[0.37454012 0.95071431 0.73199394]\n"
          ]
        }
      ]
    },
    {
      "cell_type": "code",
      "source": [
        "np.random.seed(42)\n",
        "\n",
        "print(np.random.rand(3))   # always same output if seed=42\n"
      ],
      "metadata": {
        "colab": {
          "base_uri": "https://localhost:8080/"
        },
        "id": "veLa46h9-i8p",
        "outputId": "ae04a3af-3a78-41dd-b530-b85fdbce7531"
      },
      "execution_count": null,
      "outputs": [
        {
          "output_type": "stream",
          "name": "stdout",
          "text": [
            "[0.37454012 0.95071431 0.73199394]\n"
          ]
        }
      ]
    },
    {
      "cell_type": "markdown",
      "source": [
        "***Linear Algebra Basics***"
      ],
      "metadata": {
        "id": "LVwD49W0BOjX"
      }
    },
    {
      "cell_type": "markdown",
      "source": [
        "***1. Dot Product (np.dot())***\n",
        "\n",
        "**Dot product of two vectors:**"
      ],
      "metadata": {
        "id": "IUcASu8Fg6LC"
      }
    },
    {
      "cell_type": "code",
      "source": [
        "import numpy as np\n",
        "\n",
        "a = np.array([1, 2, 3])\n",
        "b = np.array([4, 5, 6])\n",
        "\n",
        "print(\"Dot Product:\", np.dot(a, b))\n"
      ],
      "metadata": {
        "colab": {
          "base_uri": "https://localhost:8080/"
        },
        "id": "hIuISlkbhPWR",
        "outputId": "bf6d259a-c017-4759-ea7f-9ffeebb3f6c5"
      },
      "execution_count": null,
      "outputs": [
        {
          "output_type": "stream",
          "name": "stdout",
          "text": [
            "Dot Product: 32\n"
          ]
        }
      ]
    },
    {
      "cell_type": "markdown",
      "source": [
        "***2. Matrix Multiplication (@ or np.matmul())***"
      ],
      "metadata": {
        "id": "G62i9faCh1T1"
      }
    },
    {
      "cell_type": "code",
      "source": [
        "A = np.array([[1, 2],                                                                 Calculation:\n",
        "              [3, 4]])\n",
        "B = np.array([[5, 6],\n",
        "              [7, 8]])\n",
        "\n",
        "print(\"Matrix Multiplication (using @):\\n\", A @ B)\n",
        "print(\"Matrix Multiplication (using matmul):\\n\", np.matmul(A, B))\n"
      ],
      "metadata": {
        "colab": {
          "base_uri": "https://localhost:8080/"
        },
        "collapsed": true,
        "id": "TCXYzZwbh-LA",
        "outputId": "b09e9dfe-f78a-45c8-f6c0-aaf3900f154e"
      },
      "execution_count": null,
      "outputs": [
        {
          "output_type": "stream",
          "name": "stdout",
          "text": [
            "Matrix Multiplication (using @):\n",
            " [[19 22]\n",
            " [43 50]]\n",
            "Matrix Multiplication (using matmul):\n",
            " [[19 22]\n",
            " [43 50]]\n"
          ]
        }
      ]
    },
    {
      "cell_type": "markdown",
      "source": [
        "Calculation:\n",
        "\n",
        "Row1·Col1 = 1*5 + 2*7 = 19\n",
        "\n",
        "Row1·Col2 = 1*6 + 2*8 = 22\n",
        "\n",
        "Row2·Col1 = 3*5 + 4*7 = 43\n",
        "\n",
        "Row2·Col2 = 3*6 + 4*8 = 50"
      ],
      "metadata": {
        "id": "WhBJ-GJ2okxP"
      }
    },
    {
      "cell_type": "markdown",
      "source": [
        "***3. Transpose (.T):***"
      ],
      "metadata": {
        "id": "7F6fVDbqogL4"
      }
    },
    {
      "cell_type": "code",
      "source": [
        "print(\"Original A:\\n\", A)\n",
        "print(\"Transpose of A:\\n\", A.T)\n"
      ],
      "metadata": {
        "colab": {
          "base_uri": "https://localhost:8080/"
        },
        "id": "y2cCRNFKjK5j",
        "outputId": "872aa7e6-25c3-4826-b874-706611c8a9d7"
      },
      "execution_count": null,
      "outputs": [
        {
          "output_type": "stream",
          "name": "stdout",
          "text": [
            "Original A:\n",
            " [[1 2]\n",
            " [3 4]]\n",
            "Transpose of A:\n",
            " [[1 3]\n",
            " [2 4]]\n"
          ]
        }
      ]
    },
    {
      "cell_type": "markdown",
      "source": [
        "***4. Determinant (np.linalg.det()):***\n",
        "The determinant is a single number that can be calculated from a square matrix (2×2, 3×3, …).\n",
        "It tells us things like whether the matrix is invertible or not.\n",
        "\n",
        "1. Determinant of a 2×2 matrix\n",
        "\n",
        "Formula:\n",
        "det(A)=(1∗4)−(2∗3)=4−6=−2"
      ],
      "metadata": {
        "id": "yzr4C5qErX2O"
      }
    },
    {
      "cell_type": "code",
      "source": [
        "import numpy as np\n",
        "\n",
        "A = np.array([[1, 2],\n",
        "              [3, 4]])\n",
        "\n",
        "det_A = np.linalg.det(A)\n",
        "print(\"Determinant of A:\", det_A)\n"
      ],
      "metadata": {
        "colab": {
          "base_uri": "https://localhost:8080/"
        },
        "id": "k-4PZjrvrXVf",
        "outputId": "d3be4ad2-28b0-4426-85ac-50a7c839516d"
      },
      "execution_count": null,
      "outputs": [
        {
          "output_type": "stream",
          "name": "stdout",
          "text": [
            "Determinant of A: -2.0000000000000004\n"
          ]
        }
      ]
    },
    {
      "cell_type": "markdown",
      "source": [
        "***5. Inverse (np.linalg.inv()***)"
      ],
      "metadata": {
        "id": "4f_Sjx69txAQ"
      }
    },
    {
      "cell_type": "code",
      "source": [
        "inv_A = np.linalg.inv(A)\n",
        "print(\"Inverse of A:\\n\", inv_A)\n"
      ],
      "metadata": {
        "colab": {
          "base_uri": "https://localhost:8080/"
        },
        "id": "SSo2xqGet5ge",
        "outputId": "9026a0ef-3e9b-45a4-d9f3-99af767c17ac"
      },
      "execution_count": null,
      "outputs": [
        {
          "output_type": "stream",
          "name": "stdout",
          "text": [
            "Inverse of A:\n",
            " [[-2.   1. ]\n",
            " [ 1.5 -0.5]]\n"
          ]
        }
      ]
    },
    {
      "cell_type": "markdown",
      "source": [
        "***6. Eigenvalues & Eigenvectors (np.linalg.eig()):***\n",
        "What are Eigenvalues & Eigenvectors?\n",
        "\n",
        "For a square matrix\n",
        "𝐴\n",
        "A, an eigenvector\n",
        "𝑣\n",
        "v and an eigenvalue\n",
        "𝜆\n",
        "λ satisfy:\n",
        "  Av=λv\n",
        "  Meaning: when the matrix\n",
        "𝐴\n",
        "A acts on vector\n",
        "𝑣\n",
        "v, the result is just a scaled version of\n",
        "𝑣\n",
        "v (not rotated).\n",
        "\n",
        "𝜆\n",
        "λ = eigenvalue (scalar, tells the stretching factor)\n",
        "\n",
        "𝑣\n",
        "v = eigenvector (direction that doesn’t change, only stretched)"
      ],
      "metadata": {
        "id": "b1lMaoCxvHQG"
      }
    },
    {
      "cell_type": "code",
      "source": [
        "import numpy as np\n",
        "\n",
        "A = np.array([[4, -2],\n",
        "              [1,  1]])\n",
        "\n",
        "eigenvalues, eigenvectors = np.linalg.eig(A)\n",
        "\n",
        "print(\"Matrix A:\\n\", A)\n",
        "print(\"\\nEigenvalues:\\n\", eigenvalues)\n",
        "print(\"\\nEigenvectors:\\n\", eigenvectors)\n"
      ],
      "metadata": {
        "colab": {
          "base_uri": "https://localhost:8080/"
        },
        "id": "QF3Qhgmw0FpN",
        "outputId": "22087895-1412-45eb-d13c-fdf22cdc51d8"
      },
      "execution_count": null,
      "outputs": [
        {
          "output_type": "stream",
          "name": "stdout",
          "text": [
            "Matrix A:\n",
            " [[ 4 -2]\n",
            " [ 1  1]]\n",
            "\n",
            "Eigenvalues:\n",
            " [3. 2.]\n",
            "\n",
            "Eigenvectors:\n",
            " [[0.89442719 0.70710678]\n",
            " [0.4472136  0.70710678]]\n"
          ]
        }
      ]
    },
    {
      "cell_type": "markdown",
      "source": [
        "***1. Stacking Arrays***\n",
        "\n",
        "Stacking means joining arrays together."
      ],
      "metadata": {
        "id": "-lIUoWftCwNP"
      }
    },
    {
      "cell_type": "markdown",
      "source": [
        "Vertical Stacking (np.vstack())\n",
        "\n",
        "Stacks arrays row-wise (one on top of the other)"
      ],
      "metadata": {
        "id": "X-vhLgLWC6N_"
      }
    },
    {
      "cell_type": "code",
      "source": [
        "import numpy as np\n",
        "\n",
        "a = np.array([1, 2, 3])   # shape (3,)\n",
        "b = np.array([4, 5, 6])   # shape (3,)\n",
        "\n",
        "print(\"Vertical Stack:\\n\", np.vstack([a, b]))\n"
      ],
      "metadata": {
        "colab": {
          "base_uri": "https://localhost:8080/"
        },
        "id": "g1HSz2FHCzIY",
        "outputId": "c0a35b60-10de-4269-b76a-ee7eab2d0982"
      },
      "execution_count": null,
      "outputs": [
        {
          "output_type": "stream",
          "name": "stdout",
          "text": [
            "Vertical Stack:\n",
            " [[1 2 3]\n",
            " [4 5 6]]\n"
          ]
        }
      ]
    },
    {
      "cell_type": "markdown",
      "source": [
        "***Horizontal Stacking (np.hstack())***\n",
        "\n",
        "Stacks arrays column-wise (side by side)."
      ],
      "metadata": {
        "id": "expoXr79EltP"
      }
    },
    {
      "cell_type": "code",
      "source": [
        "print(\"Horizontal Stack:\\n\", np.hstack([a, b]))\n"
      ],
      "metadata": {
        "colab": {
          "base_uri": "https://localhost:8080/"
        },
        "id": "HVFYjB8TEyeP",
        "outputId": "ab3b4027-04af-4f5c-ce7b-a2bb7a8a4ba8"
      },
      "execution_count": null,
      "outputs": [
        {
          "output_type": "stream",
          "name": "stdout",
          "text": [
            "Horizontal Stack:\n",
            " [1 2 3 4 5 6]\n"
          ]
        }
      ]
    },
    {
      "cell_type": "markdown",
      "source": [
        "***2. Splitting Arrays***\n",
        "\n",
        "Splitting means dividing an array into smaller sub-arrays."
      ],
      "metadata": {
        "id": "9IwUqp_PFxwd"
      }
    },
    {
      "cell_type": "markdown",
      "source": [
        "Equal Splits (np.split())"
      ],
      "metadata": {
        "id": "ZN8MBXX2GJll"
      }
    },
    {
      "cell_type": "code",
      "source": [
        "x=np.array([10,20,30,40,50,60])\n",
        "print(np.split(x,3))"
      ],
      "metadata": {
        "colab": {
          "base_uri": "https://localhost:8080/"
        },
        "id": "YiCUbbQOF_gS",
        "outputId": "9aabab6e-dfc9-4bb1-d1e4-c1e6093d012b"
      },
      "execution_count": null,
      "outputs": [
        {
          "output_type": "stream",
          "name": "stdout",
          "text": [
            "[array([10, 20]), array([30, 40]), array([50, 60])]\n"
          ]
        }
      ]
    },
    {
      "cell_type": "markdown",
      "source": [
        "***Unequal Splits (np.array_split()):***\n",
        "\n",
        " Unlike np.split(), it allows uneven splitting."
      ],
      "metadata": {
        "id": "_-dCSW3MtN3E"
      }
    },
    {
      "cell_type": "code",
      "source": [
        "import numpy as np\n",
        "x=np.array([10,20,30,40,50,60])\n",
        "print(np.array_split(x,4))"
      ],
      "metadata": {
        "colab": {
          "base_uri": "https://localhost:8080/"
        },
        "id": "AfHgEvj2tWJv",
        "outputId": "6041f9f9-0c1b-426f-9c1e-ccb79da4d6d9"
      },
      "execution_count": null,
      "outputs": [
        {
          "output_type": "stream",
          "name": "stdout",
          "text": [
            "[array([10, 20]), array([30, 40]), array([50]), array([60])]\n"
          ]
        }
      ]
    },
    {
      "cell_type": "code",
      "source": [
        "#code 2:\n",
        "import numpy as np\n",
        "x=np.array([10,20,30,40,50,60])\n",
        "print(np.array_split(x,3))"
      ],
      "metadata": {
        "colab": {
          "base_uri": "https://localhost:8080/"
        },
        "id": "sCNZQr8puKLL",
        "outputId": "af868692-f3a4-4565-dc50-0121a6360d50"
      },
      "execution_count": null,
      "outputs": [
        {
          "output_type": "stream",
          "name": "stdout",
          "text": [
            "[array([10, 20]), array([30, 40]), array([50, 60])]\n"
          ]
        }
      ]
    },
    {
      "cell_type": "markdown",
      "source": [
        "**Summary**\n",
        "\n",
        "**np.vstack() → stack vertically (row-wise)**\n",
        "\n",
        "**np.hstack() → stack horizontally (column-wise)**\n",
        "\n",
        "**np.split() → splits equally (error if not possible)**\n",
        "\n",
        "**np.array_split() → allows uneven splits**"
      ],
      "metadata": {
        "id": "_G2SZPUHuPvj"
      }
    },
    {
      "cell_type": "markdown",
      "source": [
        "***1. Splitting a 2D Array Row-wise (by rows)***"
      ],
      "metadata": {
        "id": "NAJ9QMmCv94N"
      }
    },
    {
      "cell_type": "code",
      "source": [
        "import numpy as np\n",
        "\n",
        "arr = np.array([[1, 2, 3, 4],\n",
        "                [5, 6, 7, 8],\n",
        "                [9,10,11,12],\n",
        "                [13,14,15,16]])\n",
        "\n",
        "print(\"Original Array:\\n\", arr)\n",
        "\n",
        "# Split into 2 equal parts row-wise\n",
        "rows = np.split(arr, 2, axis=0)\n",
        "print(\"\\nRow-wise split into 2 parts:\")\n",
        "for r in rows:\n",
        "    print(r)\n"
      ],
      "metadata": {
        "colab": {
          "base_uri": "https://localhost:8080/"
        },
        "id": "kICwjoa2wBq9",
        "outputId": "ef453850-6cac-433c-9221-83651cca916c"
      },
      "execution_count": null,
      "outputs": [
        {
          "output_type": "stream",
          "name": "stdout",
          "text": [
            "Original Array:\n",
            " [[ 1  2  3  4]\n",
            " [ 5  6  7  8]\n",
            " [ 9 10 11 12]\n",
            " [13 14 15 16]]\n",
            "\n",
            "Row-wise split into 2 parts:\n",
            "[[1 2 3 4]\n",
            " [5 6 7 8]]\n",
            "[[ 9 10 11 12]\n",
            " [13 14 15 16]]\n"
          ]
        }
      ]
    },
    {
      "cell_type": "markdown",
      "source": [
        "**2. Splitting a 2D Array Column-wise (by columns)**"
      ],
      "metadata": {
        "id": "l89DtI-0wGoQ"
      }
    },
    {
      "cell_type": "code",
      "source": [
        "# Split into 2 equal parts column-wise\n",
        "cols = np.split(arr, 2, axis=1)\n",
        "print(\"\\nColumn-wise split into 2 parts:\")\n",
        "for c in cols:\n",
        "    print(c)\n"
      ],
      "metadata": {
        "colab": {
          "base_uri": "https://localhost:8080/"
        },
        "id": "_9JeGsCZwLWt",
        "outputId": "8e9c7040-31a2-4a34-f26c-3bd9d6a2cee8"
      },
      "execution_count": null,
      "outputs": [
        {
          "output_type": "stream",
          "name": "stdout",
          "text": [
            "\n",
            "Column-wise split into 2 parts:\n",
            "[[ 1  2]\n",
            " [ 5  6]\n",
            " [ 9 10]\n",
            " [13 14]]\n",
            "[[ 3  4]\n",
            " [ 7  8]\n",
            " [11 12]\n",
            " [15 16]]\n"
          ]
        }
      ]
    },
    {
      "cell_type": "markdown",
      "source": [
        "***3. Unequal Splits with np.array_split()***\n",
        "\n",
        "If equal split is not possible, use np.array_split()"
      ],
      "metadata": {
        "id": "kChYAcMcwPBc"
      }
    },
    {
      "cell_type": "code",
      "source": [
        "# Split row-wise into 3 uneven parts\n",
        "rows_uneven = np.array_split(arr, 3, axis=0)\n",
        "print(\"\\nRow-wise split into 3 uneven parts:\")\n",
        "for r in rows_uneven:\n",
        "    print(r)\n"
      ],
      "metadata": {
        "colab": {
          "base_uri": "https://localhost:8080/"
        },
        "id": "vjN_Gw6vwUXx",
        "outputId": "3ec4d13e-d09a-4a22-bf89-c0ee18a09edb"
      },
      "execution_count": null,
      "outputs": [
        {
          "output_type": "stream",
          "name": "stdout",
          "text": [
            "\n",
            "Row-wise split into 3 uneven parts:\n",
            "[[1 2 3 4]\n",
            " [5 6 7 8]]\n",
            "[[ 9 10 11 12]]\n",
            "[[13 14 15 16]]\n"
          ]
        }
      ]
    },
    {
      "cell_type": "markdown",
      "source": [
        "Summary\n",
        "\n",
        "axis=0 → row-wise split\n",
        "\n",
        "axis=1 → column-wise split\n",
        "\n",
        "np.split() → equal splits only\n",
        "\n",
        "np.array_split() → allows uneven splits"
      ],
      "metadata": {
        "id": "ByDvNw1ZwmSC"
      }
    },
    {
      "cell_type": "markdown",
      "source": [
        "***Sorting & Searching:***"
      ],
      "metadata": {
        "id": "_-9o8K0Jwndt"
      }
    },
    {
      "cell_type": "markdown",
      "source": [
        "***1. Sorting with np.sort()***\n",
        "\n",
        "👉 Returns a sorted copy of the array."
      ],
      "metadata": {
        "id": "H9M2Zjm2xGPX"
      }
    },
    {
      "cell_type": "code",
      "source": [
        "import numpy as np\n",
        "arr=np.array([5,2,9,1,7])\n",
        "print(arr)\n",
        "print(\"sorted:\",np.sort(arr))\n",
        "print(arr)"
      ],
      "metadata": {
        "colab": {
          "base_uri": "https://localhost:8080/"
        },
        "id": "1OU8c90xxQq0",
        "outputId": "085c31c8-51e6-4998-8f04-dce760d684cb"
      },
      "execution_count": null,
      "outputs": [
        {
          "output_type": "stream",
          "name": "stdout",
          "text": [
            "[5 2 9 1 7]\n",
            "sorted: [1 2 5 7 9]\n",
            "[5 2 9 1 7]\n"
          ]
        }
      ]
    },
    {
      "cell_type": "markdown",
      "source": [
        "***2. Indices of sorted array with np.argsort()***\n",
        "\n",
        "👉 Returns indices that would sort the array."
      ],
      "metadata": {
        "id": "VRmuVR5Hyp8V"
      }
    },
    {
      "cell_type": "markdown",
      "source": [
        "arr[np.argsort(arr)]\n",
        "\n",
        "Here we use fancy indexing.\n",
        "\n",
        "np.argsort(arr) = [1, 3, 2, 0]\n",
        "\n",
        "So arr[[1, 3, 2, 0]] means:\n",
        "\n",
        "arr[1] = 10\n",
        "\n",
        "arr[3] = 20\n",
        "\n",
        "arr[2] = 30\n",
        "\n",
        "arr[0] = 40"
      ],
      "metadata": {
        "id": "h-FWTtPB0Xwy"
      }
    },
    {
      "cell_type": "code",
      "source": [
        "print(\"Argsort:\", np.argsort(arr))\n",
        "print(\"Sorted using indices:\", arr[np.argsort(arr)])\n"
      ],
      "metadata": {
        "colab": {
          "base_uri": "https://localhost:8080/"
        },
        "id": "Vhq5J8Gsyuio",
        "outputId": "75a84a85-901d-4784-e29e-c4dd79bd32e3"
      },
      "execution_count": null,
      "outputs": [
        {
          "output_type": "stream",
          "name": "stdout",
          "text": [
            "Argsort: [3 1 0 4 2]\n",
            "Sorted using indices: [1 2 5 7 9]\n"
          ]
        }
      ]
    },
    {
      "cell_type": "markdown",
      "source": [
        "**3. Searching with np.where()**\n",
        "\n",
        "👉 Returns indices where condition is True."
      ],
      "metadata": {
        "id": "q1pxd3gF0afD"
      }
    },
    {
      "cell_type": "code",
      "source": [
        "arr = np.array([10, 20, 30, 40, 50])\n",
        "print(\"Where > 25:\", np.where(arr > 25))\n",
        "print(\"Values > 25:\", arr[np.where(arr > 25)])\n"
      ],
      "metadata": {
        "colab": {
          "base_uri": "https://localhost:8080/"
        },
        "id": "E-sPQ0hE1B6s",
        "outputId": "f28b4079-73f6-4b46-ce56-b484e351b15e"
      },
      "execution_count": null,
      "outputs": [
        {
          "output_type": "stream",
          "name": "stdout",
          "text": [
            "Where > 25: (array([2, 3, 4]),)\n",
            "Values > 25: [30 40 50]\n"
          ]
        }
      ]
    },
    {
      "cell_type": "markdown",
      "source": [
        "**4. Finding non-zero elements with np.nonzero()**\n",
        "\n",
        "👉 Useful for sparse arrays"
      ],
      "metadata": {
        "id": "I5oV9YGo3Igu"
      }
    },
    {
      "cell_type": "code",
      "source": [
        "arr = np.array([0, 2, 0, 5, 0, 7])\n",
        "print(\"Non-zero indices:\", np.nonzero(arr))\n",
        "print(\"Non-zero values:\", arr[np.nonzero(arr)])\n"
      ],
      "metadata": {
        "colab": {
          "base_uri": "https://localhost:8080/"
        },
        "id": "zl9yKmbj3K-V",
        "outputId": "7ca7cd5c-273d-4b8c-9bf1-4d19a06c7ed5"
      },
      "execution_count": null,
      "outputs": [
        {
          "output_type": "stream",
          "name": "stdout",
          "text": [
            "Non-zero indices: (array([1, 3, 5]),)\n",
            "Non-zero values: [2 5 7]\n"
          ]
        }
      ]
    },
    {
      "cell_type": "markdown",
      "source": [
        "**5. Unique elements with np.unique()**\n",
        "\n",
        "👉 Finds unique values (optionally return counts and indices)"
      ],
      "metadata": {
        "id": "GOrQZO2_3-cu"
      }
    },
    {
      "cell_type": "code",
      "source": [
        "arr=np.array([1,2,2,3,3,3,3,4,4])\n",
        "print(np.unique(arr))\n",
        "unique,counts=np.unique(arr,return_counts=True)\n",
        "print(unique)\n",
        "print(counts)"
      ],
      "metadata": {
        "colab": {
          "base_uri": "https://localhost:8080/"
        },
        "id": "JB_CbOkf4BLr",
        "outputId": "d8b37aa2-c17d-4a5a-e23a-fb0939ccdaa5"
      },
      "execution_count": null,
      "outputs": [
        {
          "output_type": "stream",
          "name": "stdout",
          "text": [
            "[1 2 3 4]\n",
            "[1 2 3 4]\n",
            "[1 2 4 2]\n"
          ]
        }
      ]
    },
    {
      "cell_type": "markdown",
      "source": [
        "Summary\n",
        "\n",
        "np.sort() → sorted array (copy)\n",
        "\n",
        "np.argsort() → indices of sorted order\n",
        "\n",
        "np.where() → indices matching condition\n",
        "\n",
        "np.nonzero() → indices of non-zero elements\n",
        "\n",
        "np.unique() → distinct values (+ counts if needed)"
      ],
      "metadata": {
        "id": "1JJov5rS9fuN"
      }
    },
    {
      "cell_type": "markdown",
      "source": [
        "**Advanced Indexing**\n",
        "\n",
        "**Index with arrays & conditions**\n",
        "\n",
        "**Masking & filtering data**"
      ],
      "metadata": {
        "id": "BFiuLMyH9hCM"
      }
    },
    {
      "cell_type": "markdown",
      "source": [
        "***1. Indexing with Arrays (Fancy Indexing)***\n",
        "\n",
        "👉 You can pass a list/array of indices to access multiple elements at once."
      ],
      "metadata": {
        "id": "S58_fgcN9sSa"
      }
    },
    {
      "cell_type": "code",
      "source": [
        "import numpy as np\n",
        "arr=np.array([10,20,30,40,50,60])\n",
        "print(arr)\n",
        "print(arr[[0,2,4]])"
      ],
      "metadata": {
        "colab": {
          "base_uri": "https://localhost:8080/"
        },
        "id": "3jJ2DD4GqGve",
        "outputId": "8aba43aa-4443-4500-c4b7-82d4634c075b"
      },
      "execution_count": null,
      "outputs": [
        {
          "output_type": "stream",
          "name": "stdout",
          "text": [
            "[10 20 30 40 50 60]\n",
            "[10 30 50]\n"
          ]
        }
      ]
    },
    {
      "cell_type": "markdown",
      "source": [
        "***2. Boolean Indexing (Masking)***\n",
        "\n",
        "👉 Create a Boolean mask and filter values."
      ],
      "metadata": {
        "id": "e73C9U1ZrvAI"
      }
    },
    {
      "cell_type": "code",
      "source": [
        "arr=np.array([15,10,20,25,30,40])\n",
        "print(arr)\n",
        "mask=arr>20\n",
        "print(mask)\n",
        "print(arr[mask])"
      ],
      "metadata": {
        "colab": {
          "base_uri": "https://localhost:8080/"
        },
        "id": "DUhrRH6lr17h",
        "outputId": "41d24683-b247-400d-87ca-fb770274eafd"
      },
      "execution_count": null,
      "outputs": [
        {
          "output_type": "stream",
          "name": "stdout",
          "text": [
            "[15 10 20 25 30 40]\n",
            "[False False False  True  True  True]\n",
            "[25 30 40]\n"
          ]
        }
      ]
    },
    {
      "cell_type": "markdown",
      "source": [
        "***3. Indexing in 2D Arrays with Arrays***"
      ],
      "metadata": {
        "id": "WlFTuWVosf8V"
      }
    },
    {
      "cell_type": "code",
      "source": [
        "arr2d=np.array([[1,2,3],[4,5,6],[7,8,9]])\n",
        "print(arr2d)\n",
        "rows = [0, 1, 2]\n",
        "cols = [1, 2, 0]\n",
        "print(arr2d[rows,cols])\n"
      ],
      "metadata": {
        "colab": {
          "base_uri": "https://localhost:8080/"
        },
        "id": "szShYyj3soz_",
        "outputId": "722de1a1-2943-4b57-afcb-ddd0f7c444af"
      },
      "execution_count": null,
      "outputs": [
        {
          "output_type": "stream",
          "name": "stdout",
          "text": [
            "[[1 2 3]\n",
            " [4 5 6]\n",
            " [7 8 9]]\n",
            "[2 6 7]\n"
          ]
        }
      ]
    },
    {
      "cell_type": "markdown",
      "source": [
        "***4. Masking in 2D Arrays***"
      ],
      "metadata": {
        "id": "aESmWbnkxJ4Y"
      }
    },
    {
      "cell_type": "code",
      "source": [
        "print(\"Values > 4:\\n\", arr2d[arr2d > 4])\n"
      ],
      "metadata": {
        "colab": {
          "base_uri": "https://localhost:8080/"
        },
        "id": "qF5gsCacxRf1",
        "outputId": "1b2aad26-61a5-409a-e15b-e3ad3bee5788"
      },
      "execution_count": null,
      "outputs": [
        {
          "output_type": "stream",
          "name": "stdout",
          "text": [
            "Values > 4:\n",
            " [5 6 7 8 9]\n"
          ]
        }
      ]
    },
    {
      "cell_type": "markdown",
      "source": [
        "***5. Combining Conditions***\n",
        "\n",
        "👉 Use logical operators (&, |, ~) for multiple conditions."
      ],
      "metadata": {
        "id": "RAd3vP26xpBp"
      }
    },
    {
      "cell_type": "code",
      "source": [
        "import numpy as np\n",
        "arr=np.array([10,20,25,30,35,40])\n",
        "print(arr)\n",
        "print(arr[(arr>=20) & (arr<=30)])\n",
        "print(arr[(arr<20) | (arr>40)])\n",
        "print(arr[~(arr>30)])"
      ],
      "metadata": {
        "colab": {
          "base_uri": "https://localhost:8080/"
        },
        "id": "fHKFJ6Qfx3p8",
        "outputId": "a28a68b8-d0ac-4b8c-eada-254f06f6b50a"
      },
      "execution_count": null,
      "outputs": [
        {
          "output_type": "stream",
          "name": "stdout",
          "text": [
            "[10 20 25 30 35 40]\n",
            "[20 25 30]\n",
            "[10]\n",
            "[10 20 25 30]\n"
          ]
        }
      ]
    },
    {
      "cell_type": "markdown",
      "source": [
        "***Summary:***\n",
        "\n",
        "& → AND (both conditions must be True)\n",
        "\n",
        "| → OR (at least one condition True)\n",
        "\n",
        "~ → NOT (flips True ↔ False)"
      ],
      "metadata": {
        "id": "g4w-hfAkCTWJ"
      }
    },
    {
      "cell_type": "markdown",
      "source": [
        "***Handling Missing Values:***\n",
        " np.isnan(), np.nan_to_num() Aggregations with NaN: np.nanmean(), np.nanstd()"
      ],
      "metadata": {
        "id": "qR2voHs9CWsD"
      }
    },
    {
      "cell_type": "markdown",
      "source": [
        "**Detect Missing Values → np.isnan()**\n",
        "\n",
        "👉 Checks if a value is NaN (Not a Number)."
      ],
      "metadata": {
        "id": "9LSC-IOdDOmg"
      }
    },
    {
      "cell_type": "code",
      "source": [
        "import numpy as np\n",
        "arr=np.array([1,2,np.nan,4,np.nan])\n",
        "print(arr)\n",
        "print(np.isnan(arr))"
      ],
      "metadata": {
        "colab": {
          "base_uri": "https://localhost:8080/"
        },
        "id": "Y_FO4vFwDk-f",
        "outputId": "4902d358-4517-4712-9ce0-d0e6b8c9abf3"
      },
      "execution_count": null,
      "outputs": [
        {
          "output_type": "stream",
          "name": "stdout",
          "text": [
            "[ 1.  2. nan  4. nan]\n",
            "[False False  True False  True]\n"
          ]
        }
      ]
    },
    {
      "cell_type": "markdown",
      "source": [
        "***Replace Missing Values → np.nan_to_num()***\n",
        "\n",
        "👉 Replaces NaN with 0 (or any chosen value)."
      ],
      "metadata": {
        "id": "5Quot6TpE2UQ"
      }
    },
    {
      "cell_type": "code",
      "source": [
        "print(np.nan_to_num(arr))\n",
        "print(np.nan_to_num(arr,nan=-1))"
      ],
      "metadata": {
        "colab": {
          "base_uri": "https://localhost:8080/"
        },
        "id": "Tgex9KIFE6sD",
        "outputId": "1efc1101-90c4-4784-b4ca-8dd7cbba5bbb"
      },
      "execution_count": null,
      "outputs": [
        {
          "output_type": "stream",
          "name": "stdout",
          "text": [
            "[1. 2. 0. 4. 0.]\n",
            "[ 1.  2. -1.  4. -1.]\n"
          ]
        }
      ]
    },
    {
      "cell_type": "markdown",
      "source": [
        "***Aggregations that Ignore NaN***\n",
        "\n",
        "👉 Normal np.mean(), np.std() break if NaN exists.\n",
        "👉 Use NaN-safe versions:\n",
        "\n",
        "np.nanmean() → mean ignoring NaN\n",
        "\n",
        "np.nanstd() → standard deviation ignoring NaN"
      ],
      "metadata": {
        "id": "XXfUfCBaGllt"
      }
    },
    {
      "cell_type": "code",
      "source": [
        "print(\"Normal mean:\", np.mean(arr))\n",
        "print(\"NaN-safe mean:\", np.nanmean(arr))\n",
        "print(\"NaN-safe std:\", np.nanstd(arr))"
      ],
      "metadata": {
        "colab": {
          "base_uri": "https://localhost:8080/"
        },
        "id": "ZV8NKx26GohW",
        "outputId": "4c1b8d43-79ab-4a56-f033-bae058003c17"
      },
      "execution_count": null,
      "outputs": [
        {
          "output_type": "stream",
          "name": "stdout",
          "text": [
            "Normal mean: nan\n",
            "NaN-safe mean: 2.3333333333333335\n",
            "NaN-safe std: 1.247219128924647\n"
          ]
        }
      ]
    },
    {
      "cell_type": "markdown",
      "source": [
        "***Summary:***\n",
        "\n",
        "np.isnan(arr) → finds missing values (True where NaN).\n",
        "\n",
        "np.nan_to_num(arr, nan=value) → replaces NaN with 0 or custom value.\n",
        "\n",
        "np.nanmean(), np.nanstd(), np.nanmin(), np.nanmax() → safely compute ignoring NaN."
      ],
      "metadata": {
        "id": "w1V9RPcMNCdV"
      }
    },
    {
      "cell_type": "markdown",
      "source": [
        " **Broadcasting in Depth**\n",
        " **Shape alignment rules**\n",
        " **Efficient vectorization instead of loops**"
      ],
      "metadata": {
        "id": "Kg5vhCeBNFr9"
      }
    },
    {
      "cell_type": "markdown",
      "source": [
        "***1. Broadcasting Rules (Shape Alignment)***\n",
        "\n",
        "Broadcasting works if from right to left, dimensions are either equal or one of them is 1."
      ],
      "metadata": {
        "id": "VWSzR2sXT_WG"
      }
    },
    {
      "cell_type": "markdown",
      "source": [
        "Example cases:\n",
        "| Shape A | Shape B | Works? | Result shape |\n",
        "| ------- | ------- | ------ | ------------ |\n",
        "| (3,)    | (3,)    | ✅ Yes  | (3,)         |\n",
        "| (3,1)   | (1,3)   | ✅ Yes  | (3,3)        |\n",
        "| (4,3)   | (3,)    | ✅ Yes  | (4,3)        |\n",
        "| (2,3)   | (2,1)   | ✅ Yes  | (2,3)        |\n",
        "| (2,3)   | (4,3)   | ❌ No   | —            |\n"
      ],
      "metadata": {
        "id": "-LwpMcR3UCUd"
      }
    },
    {
      "cell_type": "markdown",
      "source": [
        "***2. Adding a Scalar to an Array***\n",
        "\n",
        "Scalar is treated as if it has the same shape as the array."
      ],
      "metadata": {
        "id": "j5OJKzTBUI6E"
      }
    },
    {
      "cell_type": "code",
      "source": [
        "arr=np.array([1,2,3])\n",
        "print(arr+10)"
      ],
      "metadata": {
        "colab": {
          "base_uri": "https://localhost:8080/"
        },
        "id": "23U1Es5JRU-7",
        "outputId": "11c4af94-3ff5-44bf-bf97-f5c649d9aa5e"
      },
      "execution_count": null,
      "outputs": [
        {
          "output_type": "stream",
          "name": "stdout",
          "text": [
            "[11 12 13]\n"
          ]
        }
      ]
    },
    {
      "cell_type": "markdown",
      "source": [
        "***3. Vector to Matrix (Row-wise Broadcasting)***"
      ],
      "metadata": {
        "id": "gbfSPHREUvLz"
      }
    },
    {
      "cell_type": "code",
      "source": [
        "mat=np.array([[1,2,3],\n",
        "              [4,5,6]])\n",
        "vec=np.array([10,20,30])\n",
        "print(mat+vec)"
      ],
      "metadata": {
        "colab": {
          "base_uri": "https://localhost:8080/"
        },
        "id": "UWNRReV6Uyj2",
        "outputId": "181dc917-e88d-415c-d7c5-5b0f4fac309c"
      },
      "execution_count": null,
      "outputs": [
        {
          "output_type": "stream",
          "name": "stdout",
          "text": [
            "[[11 22 33]\n",
            " [14 25 36]]\n"
          ]
        }
      ]
    },
    {
      "cell_type": "markdown",
      "source": [
        "***4. Column-wise Broadcasting (Using Reshape)***"
      ],
      "metadata": {
        "id": "MU9taKtXVQ_E"
      }
    },
    {
      "cell_type": "code",
      "source": [
        "import numpy as np\n",
        "\n",
        "mat = np.array([[1, 2, 3],\n",
        "                [4, 5, 6]])\n",
        "vec_col=np.array([10,20]).reshape(2,1)\n",
        "print(vec_col)\n",
        "print(mat+vec_col)"
      ],
      "metadata": {
        "colab": {
          "base_uri": "https://localhost:8080/"
        },
        "id": "6QTyaff1VeLt",
        "outputId": "de5734cf-66ce-4afd-d1f0-be3684eb7323"
      },
      "execution_count": null,
      "outputs": [
        {
          "output_type": "stream",
          "name": "stdout",
          "text": [
            "[[10]\n",
            " [20]]\n",
            "[[11 12 13]\n",
            " [24 25 26]]\n"
          ]
        }
      ]
    },
    {
      "cell_type": "markdown",
      "source": [
        "***5. Efficient Vectorization (Replacing Loops)***\n",
        "\n",
        "Instead of looping element by element, NumPy broadcasts automatically."
      ],
      "metadata": {
        "id": "MOdqWQ9-YgOT"
      }
    },
    {
      "cell_type": "markdown",
      "source": [
        "**With Loop (slow ❌):**"
      ],
      "metadata": {
        "id": "0qC2rLbqZD62"
      }
    },
    {
      "cell_type": "code",
      "source": [
        "result = []\n",
        "for i in [1,2,3]:\n",
        "    result.append(i * 10)\n",
        "print(\"With loop:\", result)\n"
      ],
      "metadata": {
        "colab": {
          "base_uri": "https://localhost:8080/"
        },
        "id": "4zdZ1i9JZHgA",
        "outputId": "97a92a4c-8e22-4b12-c753-93b43436e0dd"
      },
      "execution_count": null,
      "outputs": [
        {
          "output_type": "stream",
          "name": "stdout",
          "text": [
            "With loop: [10, 20, 30]\n"
          ]
        }
      ]
    },
    {
      "cell_type": "markdown",
      "source": [
        "**With Broadcasting (fast ✅):**"
      ],
      "metadata": {
        "id": "s4dHHneqcQvV"
      }
    },
    {
      "cell_type": "code",
      "source": [
        "arr = np.array([1,2,3])\n",
        "print(\"With broadcasting:\", arr * 10)\n"
      ],
      "metadata": {
        "colab": {
          "base_uri": "https://localhost:8080/"
        },
        "id": "7PIwCj9ocWn6",
        "outputId": "6efb7755-db24-4165-d890-b7b93aebae62"
      },
      "execution_count": null,
      "outputs": [
        {
          "output_type": "stream",
          "name": "stdout",
          "text": [
            "With broadcasting: [10 20 30]\n"
          ]
        }
      ]
    },
    {
      "cell_type": "markdown",
      "source": [
        "NumPy is optimized in C, so broadcasting is far faster than Python loops."
      ],
      "metadata": {
        "id": "og-EQdnXcgnt"
      }
    },
    {
      "cell_type": "markdown",
      "source": [
        "***Summary***\n",
        "\n",
        "Broadcasting lets arrays with different shapes interact.\n",
        "\n",
        "Rules: dimensions must match or be 1.\n",
        "\n",
        "Works for scalar, row, column operations.\n",
        "\n",
        "Avoids slow Python loops → vectorized operations."
      ],
      "metadata": {
        "id": "OCEYmgojchjH"
      }
    },
    {
      "cell_type": "markdown",
      "source": [
        "***Memory & Performance Views vs copies (arr.view(), arr.copy()) In-place operations for performance Strides: np.lib.stride_tricks.***"
      ],
      "metadata": {
        "id": "EIhr9r6udp7p"
      }
    },
    {
      "cell_type": "markdown",
      "source": [
        "**1. Views vs Copies**\n",
        "\n",
        "👉 NumPy tries to avoid copying data for performance reasons.\n",
        "\n",
        ".view() → creates a view (no new data, just a new \"window\" into the same memory).\n",
        "\n",
        ".copy() → creates a deep copy (new memory, changes won’t affect original)."
      ],
      "metadata": {
        "id": "LgwAUxGbqdas"
      }
    },
    {
      "cell_type": "code",
      "source": [
        "import numpy as np\n",
        "\n",
        "arr = np.array([1, 2, 3, 4, 5])\n",
        "\n",
        "# Create a view\n",
        "view_arr = arr.view()\n",
        "view_arr[0] = 99   # modifies original too!\n",
        "\n",
        "# Create a copy\n",
        "copy_arr = arr.copy()\n",
        "copy_arr[1] = 100  # does NOT affect original\n",
        "\n",
        "print(\"Original:\", arr)\n",
        "print(\"View:\", view_arr)\n",
        "print(\"Copy:\", copy_arr)\n"
      ],
      "metadata": {
        "colab": {
          "base_uri": "https://localhost:8080/"
        },
        "id": "9afZeKVtqgaX",
        "outputId": "f30a4d57-8c37-46d2-df3d-308cf51e591e"
      },
      "execution_count": null,
      "outputs": [
        {
          "output_type": "stream",
          "name": "stdout",
          "text": [
            "Original: [99  2  3  4  5]\n",
            "View: [99  2  3  4  5]\n",
            "Copy: [ 99 100   3   4   5]\n"
          ]
        }
      ]
    },
    {
      "cell_type": "markdown",
      "source": [
        "**2. In-place Operations for Performance**\n",
        "\n",
        "Instead of creating new arrays, you can update existing arrays in-place.\n",
        "This saves memory and improves performance."
      ],
      "metadata": {
        "id": "m1CVGqUHrPP6"
      }
    },
    {
      "cell_type": "code",
      "source": [
        "arr = np.array([1, 2, 3, 4, 5])\n",
        "\n",
        "# Regular operation (creates a new array in memory)\n",
        "new_arr = arr * 2\n",
        "print(\"New Array:\", new_arr)\n",
        "\n",
        "# In-place operation (modifies arr directly)\n",
        "arr *= 2\n",
        "print(\"In-place Modified Array:\", arr)\n"
      ],
      "metadata": {
        "colab": {
          "base_uri": "https://localhost:8080/"
        },
        "id": "aSO1RyxUdwGX",
        "outputId": "c8bce905-52cf-44bc-98c7-387cc5313f87"
      },
      "execution_count": null,
      "outputs": [
        {
          "output_type": "stream",
          "name": "stdout",
          "text": [
            "New Array: [ 2  4  6  8 10]\n",
            "In-place Modified Array: [ 2  4  6  8 10]\n"
          ]
        }
      ]
    },
    {
      "cell_type": "markdown",
      "source": [
        "***3. Strides (Advanced Memory Layout)***\n",
        "\n",
        "👉 Strides tell NumPy how many bytes to step in memory when moving along each axis.\n",
        "This is what allows slicing without copying data."
      ],
      "metadata": {
        "id": "rOHtu9L9sBXv"
      }
    },
    {
      "cell_type": "code",
      "source": [
        "arr = np.array([[1, 2, 3],\n",
        "                [4, 5, 6]], dtype=np.int32)\n",
        "\n",
        "print(\"Array:\\n\", arr)\n",
        "print(\"Shape:\", arr.shape)\n",
        "print(\"Strides:\", arr.strides)\n"
      ],
      "metadata": {
        "colab": {
          "base_uri": "https://localhost:8080/"
        },
        "id": "RDOtrTEssLZ3",
        "outputId": "07954a7c-575e-409d-9fb0-e4b73cb522ee"
      },
      "execution_count": null,
      "outputs": [
        {
          "output_type": "stream",
          "name": "stdout",
          "text": [
            "Array:\n",
            " [[1 2 3]\n",
            " [4 5 6]]\n",
            "Shape: (2, 3)\n",
            "Strides: (12, 4)\n"
          ]
        }
      ]
    },
    {
      "cell_type": "markdown",
      "source": [
        "Explanation:\n",
        "\n",
        "dtype=np.int32 → each element takes 4 bytes.\n",
        "\n",
        "Strides (12,4) means:\n",
        "\n",
        "Move 12 bytes to go to the next row (3 ints × 4 bytes).\n",
        "\n",
        "Move 4 bytes to go to the next column"
      ],
      "metadata": {
        "id": "NLalBGv4sfuG"
      }
    },
    {
      "cell_type": "markdown",
      "source": [
        "**4. Using stride_tricks**\n",
        "\n",
        "np.lib.stride_tricks lets you create special views without copying data."
      ],
      "metadata": {
        "id": "ooJ9JKp4skdF"
      }
    },
    {
      "cell_type": "code",
      "source": [
        "from numpy.lib.stride_tricks import sliding_window_view\n",
        "arr = np.arange(10)\n",
        "print(\"Original:\", arr)\n",
        "windows = sliding_window_view(arr, window_shape=3)\n",
        "print(\"Sliding windows:\\n\", windows)\n",
        "print(windows.shape)\n"
      ],
      "metadata": {
        "colab": {
          "base_uri": "https://localhost:8080/"
        },
        "id": "tg5SYeI8suz2",
        "outputId": "82ec787c-3a0e-4694-8564-75a323417d96"
      },
      "execution_count": null,
      "outputs": [
        {
          "output_type": "stream",
          "name": "stdout",
          "text": [
            "Original: [0 1 2 3 4 5 6 7 8 9]\n",
            "Sliding windows:\n",
            " [[0 1 2]\n",
            " [1 2 3]\n",
            " [2 3 4]\n",
            " [3 4 5]\n",
            " [4 5 6]\n",
            " [5 6 7]\n",
            " [6 7 8]\n",
            " [7 8 9]]\n",
            "(8, 3)\n"
          ]
        }
      ]
    },
    {
      "cell_type": "markdown",
      "source": [
        "Summary\n",
        "\n",
        "view() = no copy, same memory\n",
        "\n",
        "copy() = independent memory\n",
        "\n",
        "in-place ops = faster, saves memory\n",
        "\n",
        "strides = how NumPy walks through memory\n",
        "\n",
        "stride_tricks = advanced way to make overlapping windows / reshapes without copies"
      ],
      "metadata": {
        "id": "xIsh_Wtgu1Rj"
      }
    },
    {
      "cell_type": "markdown",
      "source": [
        "Structured Arrays Working with heterogeneous data types Example: employee records with names + ages"
      ],
      "metadata": {
        "id": "pdjal15Tu2yA"
      }
    },
    {
      "cell_type": "markdown",
      "source": [
        "1. What are Structured Arrays?\n",
        "\n",
        "Normally, NumPy arrays are homogeneous (all elements same dtype).\n",
        "But structured arrays let you store heterogeneous data (like strings, ints, floats in one row)."
      ],
      "metadata": {
        "id": "GF87E2ABvajX"
      }
    },
    {
      "cell_type": "markdown",
      "source": [
        "2. Defining a Structured Array\n",
        "\n",
        "We define it by specifying a dtype with field names & types."
      ],
      "metadata": {
        "id": "Dm-rpgG7veKs"
      }
    },
    {
      "cell_type": "code",
      "source": [
        "import numpy as np\n",
        "\n",
        "# Define structured data type\n",
        "employee_dtype = np.dtype([('name', 'U10'),   # Unicode string (max 10 chars)\n",
        "                           ('age', 'i4'),    # 32-bit integer\n",
        "                           ('salary', 'f8')]) # 64-bit float\n",
        "\n",
        "# Create structured array\n",
        "employees = np.array([('Alice', 25, 50000.0),\n",
        "                      ('Bob',   30, 60000.5),\n",
        "                      ('Charlie', 28, 55000.75)],\n",
        "                      dtype=employee_dtype)\n",
        "\n",
        "print(\"Employees array:\\n\", employees)\n",
        "print(\"Dtype:\", employees.dtype)\n"
      ],
      "metadata": {
        "colab": {
          "base_uri": "https://localhost:8080/"
        },
        "id": "tEtqf4gTvr-H",
        "outputId": "86578c8a-2552-49de-b5d4-2ea4715f107a"
      },
      "execution_count": null,
      "outputs": [
        {
          "output_type": "stream",
          "name": "stdout",
          "text": [
            "Employees array:\n",
            " [('Alice', 25, 50000.  ) ('Bob', 30, 60000.5 ) ('Charlie', 28, 55000.75)]\n",
            "Dtype: [('name', '<U10'), ('age', '<i4'), ('salary', '<f8')]\n"
          ]
        }
      ]
    },
    {
      "cell_type": "markdown",
      "source": [
        "3. Accessing Fields (Column-wise)\n",
        "\n",
        "Structured arrays let you access columns by field name."
      ],
      "metadata": {
        "id": "oT1zXER2wL4Z"
      }
    },
    {
      "cell_type": "code",
      "source": [
        "print(\"Names:\", employees['name'])\n",
        "print(\"Ages:\", employees['age'])\n",
        "print(\"Salaries:\", employees['salary'])\n"
      ],
      "metadata": {
        "colab": {
          "base_uri": "https://localhost:8080/"
        },
        "id": "shZ5CAFzwRQ-",
        "outputId": "84b32fe9-d69b-4102-fb32-3b230d87755d"
      },
      "execution_count": null,
      "outputs": [
        {
          "output_type": "stream",
          "name": "stdout",
          "text": [
            "Names: ['Alice' 'Bob' 'Charlie']\n",
            "Ages: [25 30 28]\n",
            "Salaries: [50000.   60000.5  55000.75]\n"
          ]
        }
      ]
    },
    {
      "cell_type": "markdown",
      "source": [
        "4. Row-wise Access\n",
        "\n",
        "Each row is like a \"record\"."
      ],
      "metadata": {
        "id": "eXxnXFQvwaMT"
      }
    },
    {
      "cell_type": "code",
      "source": [
        "print(\"First record:\", employees[0])\n",
        "print(\"Second record name:\", employees[1]['name'])\n",
        "print(\"Third record salary:\", employees[2]['salary'])\n"
      ],
      "metadata": {
        "colab": {
          "base_uri": "https://localhost:8080/"
        },
        "id": "HxIv9035wd7L",
        "outputId": "29c1833b-4542-4d0c-e254-b6967ca825d2"
      },
      "execution_count": null,
      "outputs": [
        {
          "output_type": "stream",
          "name": "stdout",
          "text": [
            "First record: ('Alice', 25, 50000.0)\n",
            "Second record name: Bob\n",
            "Third record salary: 55000.75\n"
          ]
        }
      ]
    },
    {
      "cell_type": "markdown",
      "source": [
        "5. Filtering & Conditions\n",
        "\n",
        "We can filter like with normal arrays:"
      ],
      "metadata": {
        "id": "iFnQ6Swtw2WU"
      }
    },
    {
      "cell_type": "code",
      "source": [
        "older=employees[employees['age']>26]\n",
        "print(older)\n",
        "high_salary=employees[employees['salary']>55000]\n",
        "print(high_salary)"
      ],
      "metadata": {
        "colab": {
          "base_uri": "https://localhost:8080/"
        },
        "id": "6TDh38ODw6mC",
        "outputId": "4607217f-7b96-4f08-d0e6-706c65f1d614"
      },
      "execution_count": null,
      "outputs": [
        {
          "output_type": "stream",
          "name": "stdout",
          "text": [
            "[('Bob', 30, 60000.5 ) ('Charlie', 28, 55000.75)]\n",
            "[('Bob', 30, 60000.5 ) ('Charlie', 28, 55000.75)]\n"
          ]
        }
      ]
    },
    {
      "cell_type": "markdown",
      "source": [
        "6. Sorting Structured Arrays\n",
        "\n",
        "We can sort by fields:"
      ],
      "metadata": {
        "id": "HimHvMx2zZxl"
      }
    },
    {
      "cell_type": "code",
      "source": [
        "\n",
        "sorted_by_age = np.sort(employees, order='age')\n",
        "print(\"Sorted by Age:\\n\", sorted_by_age)\n",
        "\n",
        "sorted_by_salary = np.sort(employees, order='salary')\n",
        "print(\"Sorted by Salary:\\n\", sorted_by_salary)\n"
      ],
      "metadata": {
        "id": "toD68QwUzfi_"
      },
      "execution_count": null,
      "outputs": []
    },
    {
      "cell_type": "markdown",
      "source": [
        "7. Updating Values\n",
        "\n",
        "You can directly update fields:"
      ],
      "metadata": {
        "id": "cpsirri70PSo"
      }
    },
    {
      "cell_type": "code",
      "source": [
        "employees[0]['salary'] = 52000\n",
        "employees[1]['age'] = 31\n",
        "\n",
        "print(\"Updated Employees:\\n\", employees)\n"
      ],
      "metadata": {
        "colab": {
          "base_uri": "https://localhost:8080/"
        },
        "id": "Ufji5vPA0W1X",
        "outputId": "203d0ef9-60a4-4ce8-f4e3-40d919818ecb"
      },
      "execution_count": null,
      "outputs": [
        {
          "output_type": "stream",
          "name": "stdout",
          "text": [
            "Updated Employees:\n",
            " [('Alice', 25, 52000.  ) ('Bob', 31, 60000.5 ) ('Charlie', 28, 55000.75)]\n"
          ]
        }
      ]
    },
    {
      "cell_type": "markdown",
      "source": [
        "***Summary***\n",
        "\n",
        "Structured arrays = tables inside NumPy\n",
        "\n",
        "Fields can have different data types\n",
        "\n",
        "Access columns by name or rows like records\n",
        "\n",
        "Support filtering, sorting, updating efficiently"
      ],
      "metadata": {
        "id": "crsbR7rcH7ls"
      }
    },
    {
      "cell_type": "markdown",
      "source": [
        "Expert-Level Usage ✅\n",
        " Vectorization & Optimization Replace Python loops with NumPy vectorized ops Use np.vectorize()"
      ],
      "metadata": {
        "id": "2AUfMkLvIB0r"
      }
    },
    {
      "cell_type": "markdown",
      "source": [
        "***1. Why Vectorization?***\n",
        "\n",
        "Python loops are slow because they run in interpreted mode.\n",
        "\n",
        "NumPy uses C-optimized code, so operations on whole arrays are much faster.\n",
        "\n",
        "Instead of looping element by element, we apply the operation on the entire array at once."
      ],
      "metadata": {
        "id": "eOVZ7F3pLzXw"
      }
    },
    {
      "cell_type": "markdown",
      "source": [
        "**2. Replacing Loops with Vectorized Ops**\n",
        "\n",
        "👉 Example: Square each element in an array"
      ],
      "metadata": {
        "id": "ldhiuX7CL7DB"
      }
    },
    {
      "cell_type": "code",
      "source": [
        "import numpy as np\n",
        "\n",
        "arr = np.array([1, 2, 3, 4, 5])\n",
        "\n",
        "squares_loop = []\n",
        "for x in arr:\n",
        "    squares_loop.append(x ** 2)\n",
        "\n",
        "print(\"Using loop:\", squares_loop)\n"
      ],
      "metadata": {
        "colab": {
          "base_uri": "https://localhost:8080/"
        },
        "id": "Q1ekP8LQL-5N",
        "outputId": "52111d57-91c5-4caa-d9f7-0c9752d3de5e"
      },
      "execution_count": 1,
      "outputs": [
        {
          "output_type": "stream",
          "name": "stdout",
          "text": [
            "Using loop: [np.int64(1), np.int64(4), np.int64(9), np.int64(16), np.int64(25)]\n"
          ]
        }
      ]
    },
    {
      "cell_type": "markdown",
      "source": [
        "3. Vectorized Mathematical Operations"
      ],
      "metadata": {
        "id": "5My0Ca1mOf_u"
      }
    },
    {
      "cell_type": "code",
      "source": [
        "arr = np.array([1, 2, 3, 4, 5])\n",
        "\n",
        "print(\"Original:\", arr)\n",
        "\n",
        "# Element-wise operations\n",
        "print(\"Squared:\", arr ** 2)\n",
        "print(\"Reciprocal:\", 1 / arr)\n",
        "print(\"Sine:\", np.sin(arr))\n",
        "print(\"Logarithm:\", np.log(arr))\n"
      ],
      "metadata": {
        "colab": {
          "base_uri": "https://localhost:8080/"
        },
        "id": "JlCVp2-wOhBt",
        "outputId": "581e0f16-6589-4960-cf33-8866843608f2"
      },
      "execution_count": 2,
      "outputs": [
        {
          "output_type": "stream",
          "name": "stdout",
          "text": [
            "Original: [1 2 3 4 5]\n",
            "Squared: [ 1  4  9 16 25]\n",
            "Reciprocal: [1.         0.5        0.33333333 0.25       0.2       ]\n",
            "Sine: [ 0.84147098  0.90929743  0.14112001 -0.7568025  -0.95892427]\n",
            "Logarithm: [0.         0.69314718 1.09861229 1.38629436 1.60943791]\n"
          ]
        }
      ]
    },
    {
      "cell_type": "markdown",
      "source": [
        "***4. Vectorization with Conditions (Masking)***\n",
        "\n",
        "👉 Example: Replace all negative numbers with 0\n"
      ],
      "metadata": {
        "id": "vxtODmf-PIXj"
      }
    },
    {
      "cell_type": "code",
      "source": [
        "arr = np.array([10, -3, 7, -1, 5])\n",
        "\n",
        "# Loop way\n",
        "result_loop = []\n",
        "for x in arr:\n",
        "    if x < 0:\n",
        "        result_loop.append(0)\n",
        "    else:\n",
        "        result_loop.append(x)\n",
        "\n",
        "print(\"Loop result:\", result_loop)\n",
        "\n",
        "# Vectorized way\n",
        "result_vec = np.where(arr < 0, 0, arr)\n",
        "print(\"Vectorized result:\", result_vec)"
      ],
      "metadata": {
        "id": "cx_MSXtDPYld"
      },
      "execution_count": null,
      "outputs": []
    },
    {
      "cell_type": "markdown",
      "source": [
        "***5. Using np.vectorize()***\n",
        "\n",
        "np.vectorize() is a wrapper that applies a Python function elementwise to arrays.\n",
        "\n",
        "⚠️ It does NOT make things faster (it’s just for convenience)."
      ],
      "metadata": {
        "id": "vegsnulVPgzq"
      }
    },
    {
      "cell_type": "code",
      "source": [
        "def custom_func(x):\n",
        "    return x**2 if x % 2 == 0 else -x\n",
        "\n",
        "arr = np.array([1, 2, 3, 4, 5])\n",
        "\n",
        "# Without vectorize (loop)\n",
        "loop_res = [custom_func(x) for x in arr]\n",
        "print(\"Loop:\", loop_res)\n",
        "\n",
        "# With np.vectorize\n",
        "vec_func = np.vectorize(custom_func)\n",
        "vec_res = vec_func(arr)\n",
        "print(\"np.vectorize:\", vec_res)\n"
      ],
      "metadata": {
        "id": "ZBpeUnNZQE2F"
      },
      "execution_count": null,
      "outputs": []
    },
    {
      "cell_type": "markdown",
      "source": [
        "6. Big Example: Distance Calculation\n",
        "\n",
        "👉 Compute Euclidean distance between points."
      ],
      "metadata": {
        "id": "0RwUmfhVQOhz"
      }
    },
    {
      "cell_type": "code",
      "source": [
        "import numpy as np\n",
        "\n",
        "# Generate 5 random points in 2D (small example to understand)\n",
        "points = np.random.rand(5, 2)\n",
        "print(\"Points:\\n\", points)\n",
        "\n",
        "# ---------------- Loop version ----------------\n",
        "dist_loop = []\n",
        "for i in range(len(points)):\n",
        "    d = np.sqrt(points[i,0]**2 + points[i,1]**2)\n",
        "    dist_loop.append(d)\n",
        "print(\"\\nDistances (Loop):\", dist_loop)\n",
        "\n",
        "# ---------------- Vectorized version ----------------\n",
        "dist_vec = np.sqrt(np.sum(points**2, axis=1))\n",
        "print(\"Distances (Vectorized):\", dist_vec)\n",
        "\n",
        "# ---------------- Check if same ----------------\n",
        "print(\"\\nAre both methods equal? ->\", np.allclose(dist_loop, dist_vec))\n"
      ],
      "metadata": {
        "colab": {
          "base_uri": "https://localhost:8080/"
        },
        "id": "UAv3wcQVQWs-",
        "outputId": "3e5a8dd9-597d-4b61-d61a-1e9363ff860c"
      },
      "execution_count": 3,
      "outputs": [
        {
          "output_type": "stream",
          "name": "stdout",
          "text": [
            "Points:\n",
            " [[0.46343852 0.15050248]\n",
            " [0.50153172 0.24891681]\n",
            " [0.52022936 0.15513233]\n",
            " [0.01051633 0.84905702]\n",
            " [0.78499049 0.43692497]]\n",
            "\n",
            "Distances (Loop): [np.float64(0.4872640558821775), np.float64(0.5599050332195719), np.float64(0.5428670426941187), np.float64(0.849122143683896), np.float64(0.8983949523843334)]\n",
            "Distances (Vectorized): [0.48726406 0.55990503 0.54286704 0.84912214 0.89839495]\n",
            "\n",
            "Are both methods equal? -> True\n"
          ]
        }
      ]
    },
    {
      "cell_type": "markdown",
      "source": [
        "***Summary***\n",
        "\n",
        "Vectorization = replace Python loops with NumPy operations.\n",
        "\n",
        "np.vectorize() = convenience wrapper (not true optimization).\n",
        "\n",
        "Use ufuncs (np.sin, np.exp, np.log) and masking (np.where) for efficient code.\n",
        "\n",
        "Huge performance boost for large datasets."
      ],
      "metadata": {
        "id": "yJO9h4ewSFTF"
      }
    }
  ]
}